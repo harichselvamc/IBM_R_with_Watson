{
 "cells": [
  {
   "cell_type": "markdown",
   "metadata": {},
   "source": [
    "# Create a List in R"
   ]
  },
  {
   "cell_type": "code",
   "execution_count": 2,
   "metadata": {
    "vscode": {
     "languageId": "r"
    }
   },
   "outputs": [],
   "source": [
    "# creating a list \n",
    "\n",
    "a<-1:5"
   ]
  },
  {
   "cell_type": "code",
   "execution_count": 3,
   "metadata": {
    "vscode": {
     "languageId": "r"
    }
   },
   "outputs": [
    {
     "data": {
      "text/html": [
       "<style>\n",
       ".list-inline {list-style: none; margin:0; padding: 0}\n",
       ".list-inline>li {display: inline-block}\n",
       ".list-inline>li:not(:last-child)::after {content: \"\\00b7\"; padding: 0 .5ex}\n",
       "</style>\n",
       "<ol class=list-inline><li>1</li><li>2</li><li>3</li><li>4</li><li>5</li></ol>\n"
      ],
      "text/latex": [
       "\\begin{enumerate*}\n",
       "\\item 1\n",
       "\\item 2\n",
       "\\item 3\n",
       "\\item 4\n",
       "\\item 5\n",
       "\\end{enumerate*}\n"
      ],
      "text/markdown": [
       "1. 1\n",
       "2. 2\n",
       "3. 3\n",
       "4. 4\n",
       "5. 5\n",
       "\n",
       "\n"
      ],
      "text/plain": [
       "[1] 1 2 3 4 5"
      ]
     },
     "metadata": {},
     "output_type": "display_data"
    }
   ],
   "source": [
    "a"
   ]
  },
  {
   "cell_type": "code",
   "execution_count": 3,
   "metadata": {
    "vscode": {
     "languageId": "r"
    }
   },
   "outputs": [],
   "source": [
    "a<-3"
   ]
  },
  {
   "cell_type": "code",
   "execution_count": 4,
   "metadata": {
    "vscode": {
     "languageId": "r"
    }
   },
   "outputs": [],
   "source": [
    "b<-c(\"a\",\"b\",\"c\",\"d\")"
   ]
  },
  {
   "cell_type": "code",
   "execution_count": 5,
   "metadata": {
    "vscode": {
     "languageId": "r"
    }
   },
   "outputs": [
    {
     "data": {
      "text/html": [
       "<style>\n",
       ".list-inline {list-style: none; margin:0; padding: 0}\n",
       ".list-inline>li {display: inline-block}\n",
       ".list-inline>li:not(:last-child)::after {content: \"\\00b7\"; padding: 0 .5ex}\n",
       "</style>\n",
       "<ol class=list-inline><li>'a'</li><li>'b'</li><li>'c'</li><li>'d'</li></ol>\n"
      ],
      "text/latex": [
       "\\begin{enumerate*}\n",
       "\\item 'a'\n",
       "\\item 'b'\n",
       "\\item 'c'\n",
       "\\item 'd'\n",
       "\\end{enumerate*}\n"
      ],
      "text/markdown": [
       "1. 'a'\n",
       "2. 'b'\n",
       "3. 'c'\n",
       "4. 'd'\n",
       "\n",
       "\n"
      ],
      "text/plain": [
       "[1] \"a\" \"b\" \"c\" \"d\""
      ]
     },
     "metadata": {},
     "output_type": "display_data"
    }
   ],
   "source": [
    "b"
   ]
  },
  {
   "cell_type": "code",
   "execution_count": 6,
   "metadata": {
    "vscode": {
     "languageId": "r"
    }
   },
   "outputs": [],
   "source": [
    "c<-3+2i"
   ]
  },
  {
   "cell_type": "code",
   "execution_count": 7,
   "metadata": {
    "vscode": {
     "languageId": "r"
    }
   },
   "outputs": [
    {
     "data": {
      "text/html": [
       "3+2i"
      ],
      "text/latex": [
       "3+2i"
      ],
      "text/markdown": [
       "3+2i"
      ],
      "text/plain": [
       "[1] 3+2i"
      ]
     },
     "metadata": {},
     "output_type": "display_data"
    }
   ],
   "source": [
    "c"
   ]
  },
  {
   "cell_type": "code",
   "execution_count": 9,
   "metadata": {
    "vscode": {
     "languageId": "r"
    }
   },
   "outputs": [],
   "source": [
    "d<-list(a,b,c)"
   ]
  },
  {
   "cell_type": "code",
   "execution_count": 10,
   "metadata": {
    "vscode": {
     "languageId": "r"
    }
   },
   "outputs": [
    {
     "data": {
      "text/html": [
       "<ol>\n",
       "\t<li><style>\n",
       ".list-inline {list-style: none; margin:0; padding: 0}\n",
       ".list-inline>li {display: inline-block}\n",
       ".list-inline>li:not(:last-child)::after {content: \"\\00b7\"; padding: 0 .5ex}\n",
       "</style>\n",
       "<ol class=list-inline><li>1</li><li>2</li><li>3</li><li>4</li><li>5</li></ol>\n",
       "</li>\n",
       "\t<li><style>\n",
       ".list-inline {list-style: none; margin:0; padding: 0}\n",
       ".list-inline>li {display: inline-block}\n",
       ".list-inline>li:not(:last-child)::after {content: \"\\00b7\"; padding: 0 .5ex}\n",
       "</style>\n",
       "<ol class=list-inline><li>'a'</li><li>'b'</li><li>'c'</li><li>'d'</li></ol>\n",
       "</li>\n",
       "\t<li>3+2i</li>\n",
       "</ol>\n"
      ],
      "text/latex": [
       "\\begin{enumerate}\n",
       "\\item \\begin{enumerate*}\n",
       "\\item 1\n",
       "\\item 2\n",
       "\\item 3\n",
       "\\item 4\n",
       "\\item 5\n",
       "\\end{enumerate*}\n",
       "\n",
       "\\item \\begin{enumerate*}\n",
       "\\item 'a'\n",
       "\\item 'b'\n",
       "\\item 'c'\n",
       "\\item 'd'\n",
       "\\end{enumerate*}\n",
       "\n",
       "\\item 3+2i\n",
       "\\end{enumerate}\n"
      ],
      "text/markdown": [
       "1. 1. 1\n",
       "2. 2\n",
       "3. 3\n",
       "4. 4\n",
       "5. 5\n",
       "\n",
       "\n",
       "\n",
       "2. 1. 'a'\n",
       "2. 'b'\n",
       "3. 'c'\n",
       "4. 'd'\n",
       "\n",
       "\n",
       "\n",
       "3. 3+2i\n",
       "\n",
       "\n"
      ],
      "text/plain": [
       "[[1]]\n",
       "[1] 1 2 3 4 5\n",
       "\n",
       "[[2]]\n",
       "[1] \"a\" \"b\" \"c\" \"d\"\n",
       "\n",
       "[[3]]\n",
       "[1] 3+2i\n"
      ]
     },
     "metadata": {},
     "output_type": "display_data"
    }
   ],
   "source": [
    "d"
   ]
  },
  {
   "cell_type": "code",
   "execution_count": 11,
   "metadata": {
    "vscode": {
     "languageId": "r"
    }
   },
   "outputs": [
    {
     "data": {
      "text/html": [
       "'list'"
      ],
      "text/latex": [
       "'list'"
      ],
      "text/markdown": [
       "'list'"
      ],
      "text/plain": [
       "[1] \"list\""
      ]
     },
     "metadata": {},
     "output_type": "display_data"
    }
   ],
   "source": [
    "typeof(d)"
   ]
  },
  {
   "cell_type": "code",
   "execution_count": 13,
   "metadata": {
    "vscode": {
     "languageId": "r"
    }
   },
   "outputs": [],
   "source": [
    "e<-list(\"red\",d,c(2,3,4),5.5)"
   ]
  },
  {
   "cell_type": "code",
   "execution_count": 14,
   "metadata": {
    "vscode": {
     "languageId": "r"
    }
   },
   "outputs": [
    {
     "data": {
      "text/html": [
       "<ol>\n",
       "\t<li>'red'</li>\n",
       "\t<li><ol>\n",
       "\t<li><style>\n",
       ".list-inline {list-style: none; margin:0; padding: 0}\n",
       ".list-inline>li {display: inline-block}\n",
       ".list-inline>li:not(:last-child)::after {content: \"\\00b7\"; padding: 0 .5ex}\n",
       "</style>\n",
       "<ol class=list-inline><li>1</li><li>2</li><li>3</li><li>4</li><li>5</li></ol>\n",
       "</li>\n",
       "\t<li><style>\n",
       ".list-inline {list-style: none; margin:0; padding: 0}\n",
       ".list-inline>li {display: inline-block}\n",
       ".list-inline>li:not(:last-child)::after {content: \"\\00b7\"; padding: 0 .5ex}\n",
       "</style>\n",
       "<ol class=list-inline><li>'a'</li><li>'b'</li><li>'c'</li><li>'d'</li></ol>\n",
       "</li>\n",
       "\t<li>3+2i</li>\n",
       "</ol>\n",
       "</li>\n",
       "\t<li><style>\n",
       ".list-inline {list-style: none; margin:0; padding: 0}\n",
       ".list-inline>li {display: inline-block}\n",
       ".list-inline>li:not(:last-child)::after {content: \"\\00b7\"; padding: 0 .5ex}\n",
       "</style>\n",
       "<ol class=list-inline><li>2</li><li>3</li><li>4</li></ol>\n",
       "</li>\n",
       "\t<li>5.5</li>\n",
       "</ol>\n"
      ],
      "text/latex": [
       "\\begin{enumerate}\n",
       "\\item 'red'\n",
       "\\item \\begin{enumerate}\n",
       "\\item \\begin{enumerate*}\n",
       "\\item 1\n",
       "\\item 2\n",
       "\\item 3\n",
       "\\item 4\n",
       "\\item 5\n",
       "\\end{enumerate*}\n",
       "\n",
       "\\item \\begin{enumerate*}\n",
       "\\item 'a'\n",
       "\\item 'b'\n",
       "\\item 'c'\n",
       "\\item 'd'\n",
       "\\end{enumerate*}\n",
       "\n",
       "\\item 3+2i\n",
       "\\end{enumerate}\n",
       "\n",
       "\\item \\begin{enumerate*}\n",
       "\\item 2\n",
       "\\item 3\n",
       "\\item 4\n",
       "\\end{enumerate*}\n",
       "\n",
       "\\item 5.5\n",
       "\\end{enumerate}\n"
      ],
      "text/markdown": [
       "1. 'red'\n",
       "2. 1. 1. 1\n",
       "2. 2\n",
       "3. 3\n",
       "4. 4\n",
       "5. 5\n",
       "\n",
       "\n",
       "\n",
       "2. 1. 'a'\n",
       "2. 'b'\n",
       "3. 'c'\n",
       "4. 'd'\n",
       "\n",
       "\n",
       "\n",
       "3. 3+2i\n",
       "\n",
       "\n",
       "\n",
       "3. 1. 2\n",
       "2. 3\n",
       "3. 4\n",
       "\n",
       "\n",
       "\n",
       "4. 5.5\n",
       "\n",
       "\n"
      ],
      "text/plain": [
       "[[1]]\n",
       "[1] \"red\"\n",
       "\n",
       "[[2]]\n",
       "[[2]][[1]]\n",
       "[1] 1 2 3 4 5\n",
       "\n",
       "[[2]][[2]]\n",
       "[1] \"a\" \"b\" \"c\" \"d\"\n",
       "\n",
       "[[2]][[3]]\n",
       "[1] 3+2i\n",
       "\n",
       "\n",
       "[[3]]\n",
       "[1] 2 3 4\n",
       "\n",
       "[[4]]\n",
       "[1] 5.5\n"
      ]
     },
     "metadata": {},
     "output_type": "display_data"
    }
   ],
   "source": [
    "e"
   ]
  },
  {
   "cell_type": "code",
   "execution_count": 15,
   "metadata": {
    "vscode": {
     "languageId": "r"
    }
   },
   "outputs": [
    {
     "data": {
      "text/html": [
       "'list'"
      ],
      "text/latex": [
       "'list'"
      ],
      "text/markdown": [
       "'list'"
      ],
      "text/plain": [
       "[1] \"list\""
      ]
     },
     "metadata": {},
     "output_type": "display_data"
    }
   ],
   "source": [
    "typeof(e)"
   ]
  },
  {
   "cell_type": "code",
   "execution_count": 16,
   "metadata": {
    "vscode": {
     "languageId": "r"
    }
   },
   "outputs": [
    {
     "data": {
      "text/html": [
       "<ol>\n",
       "\t<li>'red'</li>\n",
       "</ol>\n"
      ],
      "text/latex": [
       "\\begin{enumerate}\n",
       "\\item 'red'\n",
       "\\end{enumerate}\n"
      ],
      "text/markdown": [
       "1. 'red'\n",
       "\n",
       "\n"
      ],
      "text/plain": [
       "[[1]]\n",
       "[1] \"red\"\n"
      ]
     },
     "metadata": {},
     "output_type": "display_data"
    }
   ],
   "source": [
    "e[1]"
   ]
  },
  {
   "cell_type": "code",
   "execution_count": 28,
   "metadata": {
    "vscode": {
     "languageId": "r"
    }
   },
   "outputs": [
    {
     "data": {
      "text/html": [
       "<ol>\n",
       "\t<li><ol>\n",
       "\t<li><style>\n",
       ".list-inline {list-style: none; margin:0; padding: 0}\n",
       ".list-inline>li {display: inline-block}\n",
       ".list-inline>li:not(:last-child)::after {content: \"\\00b7\"; padding: 0 .5ex}\n",
       "</style>\n",
       "<ol class=list-inline><li>1</li><li>2</li><li>3</li><li>4</li><li>5</li></ol>\n",
       "</li>\n",
       "\t<li><style>\n",
       ".list-inline {list-style: none; margin:0; padding: 0}\n",
       ".list-inline>li {display: inline-block}\n",
       ".list-inline>li:not(:last-child)::after {content: \"\\00b7\"; padding: 0 .5ex}\n",
       "</style>\n",
       "<ol class=list-inline><li>'a'</li><li>'b'</li><li>'c'</li><li>'d'</li></ol>\n",
       "</li>\n",
       "\t<li>3+2i</li>\n",
       "</ol>\n",
       "</li>\n",
       "</ol>\n"
      ],
      "text/latex": [
       "\\begin{enumerate}\n",
       "\\item \\begin{enumerate}\n",
       "\\item \\begin{enumerate*}\n",
       "\\item 1\n",
       "\\item 2\n",
       "\\item 3\n",
       "\\item 4\n",
       "\\item 5\n",
       "\\end{enumerate*}\n",
       "\n",
       "\\item \\begin{enumerate*}\n",
       "\\item 'a'\n",
       "\\item 'b'\n",
       "\\item 'c'\n",
       "\\item 'd'\n",
       "\\end{enumerate*}\n",
       "\n",
       "\\item 3+2i\n",
       "\\end{enumerate}\n",
       "\n",
       "\\end{enumerate}\n"
      ],
      "text/markdown": [
       "1. 1. 1. 1\n",
       "2. 2\n",
       "3. 3\n",
       "4. 4\n",
       "5. 5\n",
       "\n",
       "\n",
       "\n",
       "2. 1. 'a'\n",
       "2. 'b'\n",
       "3. 'c'\n",
       "4. 'd'\n",
       "\n",
       "\n",
       "\n",
       "3. 3+2i\n",
       "\n",
       "\n",
       "\n",
       "\n",
       "\n"
      ],
      "text/plain": [
       "[[1]]\n",
       "[[1]][[1]]\n",
       "[1] 1 2 3 4 5\n",
       "\n",
       "[[1]][[2]]\n",
       "[1] \"a\" \"b\" \"c\" \"d\"\n",
       "\n",
       "[[1]][[3]]\n",
       "[1] 3+2i\n",
       "\n"
      ]
     },
     "metadata": {},
     "output_type": "display_data"
    }
   ],
   "source": [
    "e[2]"
   ]
  },
  {
   "cell_type": "code",
   "execution_count": 27,
   "metadata": {
    "vscode": {
     "languageId": "r"
    }
   },
   "outputs": [
    {
     "data": {
      "text/html": [
       "<ol>\n",
       "\t<li><style>\n",
       ".list-inline {list-style: none; margin:0; padding: 0}\n",
       ".list-inline>li {display: inline-block}\n",
       ".list-inline>li:not(:last-child)::after {content: \"\\00b7\"; padding: 0 .5ex}\n",
       "</style>\n",
       "<ol class=list-inline><li>1</li><li>2</li><li>3</li><li>4</li><li>5</li></ol>\n",
       "</li>\n",
       "</ol>\n"
      ],
      "text/latex": [
       "\\begin{enumerate}\n",
       "\\item \\begin{enumerate*}\n",
       "\\item 1\n",
       "\\item 2\n",
       "\\item 3\n",
       "\\item 4\n",
       "\\item 5\n",
       "\\end{enumerate*}\n",
       "\n",
       "\\end{enumerate}\n"
      ],
      "text/markdown": [
       "1. 1. 1\n",
       "2. 2\n",
       "3. 3\n",
       "4. 4\n",
       "5. 5\n",
       "\n",
       "\n",
       "\n",
       "\n",
       "\n"
      ],
      "text/plain": [
       "[[1]]\n",
       "[1] 1 2 3 4 5\n"
      ]
     },
     "metadata": {},
     "output_type": "display_data"
    },
    {
     "data": {
      "text/html": [
       "<ol>\n",
       "\t<li><style>\n",
       ".list-inline {list-style: none; margin:0; padding: 0}\n",
       ".list-inline>li {display: inline-block}\n",
       ".list-inline>li:not(:last-child)::after {content: \"\\00b7\"; padding: 0 .5ex}\n",
       "</style>\n",
       "<ol class=list-inline><li>'a'</li><li>'b'</li><li>'c'</li><li>'d'</li></ol>\n",
       "</li>\n",
       "</ol>\n"
      ],
      "text/latex": [
       "\\begin{enumerate}\n",
       "\\item \\begin{enumerate*}\n",
       "\\item 'a'\n",
       "\\item 'b'\n",
       "\\item 'c'\n",
       "\\item 'd'\n",
       "\\end{enumerate*}\n",
       "\n",
       "\\end{enumerate}\n"
      ],
      "text/markdown": [
       "1. 1. 'a'\n",
       "2. 'b'\n",
       "3. 'c'\n",
       "4. 'd'\n",
       "\n",
       "\n",
       "\n",
       "\n",
       "\n"
      ],
      "text/plain": [
       "[[1]]\n",
       "[1] \"a\" \"b\" \"c\" \"d\"\n"
      ]
     },
     "metadata": {},
     "output_type": "display_data"
    },
    {
     "data": {
      "text/html": [
       "<ol>\n",
       "\t<li>3+2i</li>\n",
       "</ol>\n"
      ],
      "text/latex": [
       "\\begin{enumerate}\n",
       "\\item 3+2i\n",
       "\\end{enumerate}\n"
      ],
      "text/markdown": [
       "1. 3+2i\n",
       "\n",
       "\n"
      ],
      "text/plain": [
       "[[1]]\n",
       "[1] 3+2i\n"
      ]
     },
     "metadata": {},
     "output_type": "display_data"
    }
   ],
   "source": [
    "e[[2]][1]\n",
    "e[[2]][2]\n",
    "e[[2]][3]"
   ]
  },
  {
   "cell_type": "code",
   "execution_count": 29,
   "metadata": {
    "vscode": {
     "languageId": "r"
    }
   },
   "outputs": [],
   "source": [
    "f<-list(f=a,s=b,t=c)"
   ]
  },
  {
   "cell_type": "code",
   "execution_count": 30,
   "metadata": {
    "vscode": {
     "languageId": "r"
    }
   },
   "outputs": [
    {
     "data": {
      "text/html": [
       "<dl>\n",
       "\t<dt>$f</dt>\n",
       "\t\t<dd><style>\n",
       ".list-inline {list-style: none; margin:0; padding: 0}\n",
       ".list-inline>li {display: inline-block}\n",
       ".list-inline>li:not(:last-child)::after {content: \"\\00b7\"; padding: 0 .5ex}\n",
       "</style>\n",
       "<ol class=list-inline><li>1</li><li>2</li><li>3</li><li>4</li><li>5</li></ol>\n",
       "</dd>\n",
       "\t<dt>$s</dt>\n",
       "\t\t<dd><style>\n",
       ".list-inline {list-style: none; margin:0; padding: 0}\n",
       ".list-inline>li {display: inline-block}\n",
       ".list-inline>li:not(:last-child)::after {content: \"\\00b7\"; padding: 0 .5ex}\n",
       "</style>\n",
       "<ol class=list-inline><li>'a'</li><li>'b'</li><li>'c'</li><li>'d'</li></ol>\n",
       "</dd>\n",
       "\t<dt>$t</dt>\n",
       "\t\t<dd>3+2i</dd>\n",
       "</dl>\n"
      ],
      "text/latex": [
       "\\begin{description}\n",
       "\\item[\\$f] \\begin{enumerate*}\n",
       "\\item 1\n",
       "\\item 2\n",
       "\\item 3\n",
       "\\item 4\n",
       "\\item 5\n",
       "\\end{enumerate*}\n",
       "\n",
       "\\item[\\$s] \\begin{enumerate*}\n",
       "\\item 'a'\n",
       "\\item 'b'\n",
       "\\item 'c'\n",
       "\\item 'd'\n",
       "\\end{enumerate*}\n",
       "\n",
       "\\item[\\$t] 3+2i\n",
       "\\end{description}\n"
      ],
      "text/markdown": [
       "$f\n",
       ":   1. 1\n",
       "2. 2\n",
       "3. 3\n",
       "4. 4\n",
       "5. 5\n",
       "\n",
       "\n",
       "\n",
       "$s\n",
       ":   1. 'a'\n",
       "2. 'b'\n",
       "3. 'c'\n",
       "4. 'd'\n",
       "\n",
       "\n",
       "\n",
       "$t\n",
       ":   3+2i\n",
       "\n",
       "\n"
      ],
      "text/plain": [
       "$f\n",
       "[1] 1 2 3 4 5\n",
       "\n",
       "$s\n",
       "[1] \"a\" \"b\" \"c\" \"d\"\n",
       "\n",
       "$t\n",
       "[1] 3+2i\n"
      ]
     },
     "metadata": {},
     "output_type": "display_data"
    }
   ],
   "source": [
    "f"
   ]
  },
  {
   "cell_type": "code",
   "execution_count": 45,
   "metadata": {
    "vscode": {
     "languageId": "r"
    }
   },
   "outputs": [
    {
     "data": {
      "text/html": [
       "<style>\n",
       ".list-inline {list-style: none; margin:0; padding: 0}\n",
       ".list-inline>li {display: inline-block}\n",
       ".list-inline>li:not(:last-child)::after {content: \"\\00b7\"; padding: 0 .5ex}\n",
       "</style>\n",
       "<ol class=list-inline><li>1</li><li>2</li><li>3</li><li>4</li><li>5</li></ol>\n"
      ],
      "text/latex": [
       "\\begin{enumerate*}\n",
       "\\item 1\n",
       "\\item 2\n",
       "\\item 3\n",
       "\\item 4\n",
       "\\item 5\n",
       "\\end{enumerate*}\n"
      ],
      "text/markdown": [
       "1. 1\n",
       "2. 2\n",
       "3. 3\n",
       "4. 4\n",
       "5. 5\n",
       "\n",
       "\n"
      ],
      "text/plain": [
       "[1] 1 2 3 4 5"
      ]
     },
     "metadata": {},
     "output_type": "display_data"
    }
   ],
   "source": [
    "f$f"
   ]
  },
  {
   "cell_type": "code",
   "execution_count": 44,
   "metadata": {
    "vscode": {
     "languageId": "r"
    }
   },
   "outputs": [
    {
     "data": {
      "text/html": [
       "<style>\n",
       ".list-inline {list-style: none; margin:0; padding: 0}\n",
       ".list-inline>li {display: inline-block}\n",
       ".list-inline>li:not(:last-child)::after {content: \"\\00b7\"; padding: 0 .5ex}\n",
       "</style>\n",
       "<ol class=list-inline><li>'a'</li><li>'b'</li><li>'c'</li><li>'d'</li></ol>\n"
      ],
      "text/latex": [
       "\\begin{enumerate*}\n",
       "\\item 'a'\n",
       "\\item 'b'\n",
       "\\item 'c'\n",
       "\\item 'd'\n",
       "\\end{enumerate*}\n"
      ],
      "text/markdown": [
       "1. 'a'\n",
       "2. 'b'\n",
       "3. 'c'\n",
       "4. 'd'\n",
       "\n",
       "\n"
      ],
      "text/plain": [
       "[1] \"a\" \"b\" \"c\" \"d\""
      ]
     },
     "metadata": {},
     "output_type": "display_data"
    }
   ],
   "source": [
    "f$s"
   ]
  },
  {
   "cell_type": "code",
   "execution_count": 46,
   "metadata": {
    "vscode": {
     "languageId": "r"
    }
   },
   "outputs": [
    {
     "data": {
      "text/html": [
       "3+2i"
      ],
      "text/latex": [
       "3+2i"
      ],
      "text/markdown": [
       "3+2i"
      ],
      "text/plain": [
       "[1] 3+2i"
      ]
     },
     "metadata": {},
     "output_type": "display_data"
    }
   ],
   "source": [
    "f$t"
   ]
  },
  {
   "cell_type": "code",
   "execution_count": 31,
   "metadata": {
    "vscode": {
     "languageId": "r"
    }
   },
   "outputs": [
    {
     "data": {
      "text/html": [
       "'list'"
      ],
      "text/latex": [
       "'list'"
      ],
      "text/markdown": [
       "'list'"
      ],
      "text/plain": [
       "[1] \"list\""
      ]
     },
     "metadata": {},
     "output_type": "display_data"
    }
   ],
   "source": [
    "class(f)"
   ]
  },
  {
   "cell_type": "code",
   "execution_count": 36,
   "metadata": {
    "vscode": {
     "languageId": "r"
    }
   },
   "outputs": [
    {
     "data": {
      "text/html": [
       "'list'"
      ],
      "text/latex": [
       "'list'"
      ],
      "text/markdown": [
       "'list'"
      ],
      "text/plain": [
       "[1] \"list\""
      ]
     },
     "metadata": {},
     "output_type": "display_data"
    }
   ],
   "source": [
    "mode(f)"
   ]
  },
  {
   "cell_type": "code",
   "execution_count": 37,
   "metadata": {
    "vscode": {
     "languageId": "r"
    }
   },
   "outputs": [
    {
     "name": "stdout",
     "output_type": "stream",
     "text": [
      "List of 3\n",
      " $ f: int [1:5] 1 2 3 4 5\n",
      " $ s: chr [1:4] \"a\" \"b\" \"c\" \"d\"\n",
      " $ t: cplx 3+2i\n"
     ]
    }
   ],
   "source": [
    "str(f)"
   ]
  },
  {
   "cell_type": "code",
   "execution_count": 38,
   "metadata": {
    "vscode": {
     "languageId": "r"
    }
   },
   "outputs": [],
   "source": [
    "list1<-list(1,2,3)"
   ]
  },
  {
   "cell_type": "code",
   "execution_count": 42,
   "metadata": {
    "vscode": {
     "languageId": "r"
    }
   },
   "outputs": [
    {
     "data": {
      "text/html": [
       "<ol>\n",
       "\t<li>1</li>\n",
       "\t<li>2</li>\n",
       "\t<li>3</li>\n",
       "</ol>\n"
      ],
      "text/latex": [
       "\\begin{enumerate}\n",
       "\\item 1\n",
       "\\item 2\n",
       "\\item 3\n",
       "\\end{enumerate}\n"
      ],
      "text/markdown": [
       "1. 1\n",
       "2. 2\n",
       "3. 3\n",
       "\n",
       "\n"
      ],
      "text/plain": [
       "[[1]]\n",
       "[1] 1\n",
       "\n",
       "[[2]]\n",
       "[1] 2\n",
       "\n",
       "[[3]]\n",
       "[1] 3\n"
      ]
     },
     "metadata": {},
     "output_type": "display_data"
    }
   ],
   "source": [
    "list1"
   ]
  },
  {
   "cell_type": "code",
   "execution_count": 39,
   "metadata": {
    "vscode": {
     "languageId": "r"
    }
   },
   "outputs": [],
   "source": [
    "list2<-list(\"a\",\"b\",\"c\")"
   ]
  },
  {
   "cell_type": "code",
   "execution_count": 43,
   "metadata": {
    "vscode": {
     "languageId": "r"
    }
   },
   "outputs": [
    {
     "data": {
      "text/html": [
       "<ol>\n",
       "\t<li>'a'</li>\n",
       "\t<li>'b'</li>\n",
       "\t<li>'c'</li>\n",
       "</ol>\n"
      ],
      "text/latex": [
       "\\begin{enumerate}\n",
       "\\item 'a'\n",
       "\\item 'b'\n",
       "\\item 'c'\n",
       "\\end{enumerate}\n"
      ],
      "text/markdown": [
       "1. 'a'\n",
       "2. 'b'\n",
       "3. 'c'\n",
       "\n",
       "\n"
      ],
      "text/plain": [
       "[[1]]\n",
       "[1] \"a\"\n",
       "\n",
       "[[2]]\n",
       "[1] \"b\"\n",
       "\n",
       "[[3]]\n",
       "[1] \"c\"\n"
      ]
     },
     "metadata": {},
     "output_type": "display_data"
    }
   ],
   "source": [
    "list2"
   ]
  },
  {
   "cell_type": "code",
   "execution_count": 40,
   "metadata": {
    "vscode": {
     "languageId": "r"
    }
   },
   "outputs": [],
   "source": [
    "merge.list<-c(list1,list2)"
   ]
  },
  {
   "cell_type": "code",
   "execution_count": 41,
   "metadata": {
    "vscode": {
     "languageId": "r"
    }
   },
   "outputs": [
    {
     "data": {
      "text/html": [
       "<ol>\n",
       "\t<li>1</li>\n",
       "\t<li>2</li>\n",
       "\t<li>3</li>\n",
       "\t<li>'a'</li>\n",
       "\t<li>'b'</li>\n",
       "\t<li>'c'</li>\n",
       "</ol>\n"
      ],
      "text/latex": [
       "\\begin{enumerate}\n",
       "\\item 1\n",
       "\\item 2\n",
       "\\item 3\n",
       "\\item 'a'\n",
       "\\item 'b'\n",
       "\\item 'c'\n",
       "\\end{enumerate}\n"
      ],
      "text/markdown": [
       "1. 1\n",
       "2. 2\n",
       "3. 3\n",
       "4. 'a'\n",
       "5. 'b'\n",
       "6. 'c'\n",
       "\n",
       "\n"
      ],
      "text/plain": [
       "[[1]]\n",
       "[1] 1\n",
       "\n",
       "[[2]]\n",
       "[1] 2\n",
       "\n",
       "[[3]]\n",
       "[1] 3\n",
       "\n",
       "[[4]]\n",
       "[1] \"a\"\n",
       "\n",
       "[[5]]\n",
       "[1] \"b\"\n",
       "\n",
       "[[6]]\n",
       "[1] \"c\"\n"
      ]
     },
     "metadata": {},
     "output_type": "display_data"
    }
   ],
   "source": [
    "merge.list"
   ]
  },
  {
   "cell_type": "markdown",
   "metadata": {},
   "source": [
    "# Creating dataframe"
   ]
  },
  {
   "cell_type": "code",
   "execution_count": 47,
   "metadata": {
    "vscode": {
     "languageId": "r"
    }
   },
   "outputs": [],
   "source": [
    "name <-c(\"hari\",\"rob\",\"martin\")"
   ]
  },
  {
   "cell_type": "code",
   "execution_count": 48,
   "metadata": {
    "vscode": {
     "languageId": "r"
    }
   },
   "outputs": [
    {
     "data": {
      "text/html": [
       "<style>\n",
       ".list-inline {list-style: none; margin:0; padding: 0}\n",
       ".list-inline>li {display: inline-block}\n",
       ".list-inline>li:not(:last-child)::after {content: \"\\00b7\"; padding: 0 .5ex}\n",
       "</style>\n",
       "<ol class=list-inline><li>'hari'</li><li>'rob'</li><li>'martin'</li></ol>\n"
      ],
      "text/latex": [
       "\\begin{enumerate*}\n",
       "\\item 'hari'\n",
       "\\item 'rob'\n",
       "\\item 'martin'\n",
       "\\end{enumerate*}\n"
      ],
      "text/markdown": [
       "1. 'hari'\n",
       "2. 'rob'\n",
       "3. 'martin'\n",
       "\n",
       "\n"
      ],
      "text/plain": [
       "[1] \"hari\"   \"rob\"    \"martin\""
      ]
     },
     "metadata": {},
     "output_type": "display_data"
    }
   ],
   "source": [
    "name"
   ]
  },
  {
   "cell_type": "code",
   "execution_count": 50,
   "metadata": {
    "vscode": {
     "languageId": "r"
    }
   },
   "outputs": [],
   "source": [
    "age<-c(18,19,20)"
   ]
  },
  {
   "cell_type": "code",
   "execution_count": 51,
   "metadata": {
    "vscode": {
     "languageId": "r"
    }
   },
   "outputs": [
    {
     "data": {
      "text/html": [
       "<style>\n",
       ".list-inline {list-style: none; margin:0; padding: 0}\n",
       ".list-inline>li {display: inline-block}\n",
       ".list-inline>li:not(:last-child)::after {content: \"\\00b7\"; padding: 0 .5ex}\n",
       "</style>\n",
       "<ol class=list-inline><li>18</li><li>19</li><li>20</li></ol>\n"
      ],
      "text/latex": [
       "\\begin{enumerate*}\n",
       "\\item 18\n",
       "\\item 19\n",
       "\\item 20\n",
       "\\end{enumerate*}\n"
      ],
      "text/markdown": [
       "1. 18\n",
       "2. 19\n",
       "3. 20\n",
       "\n",
       "\n"
      ],
      "text/plain": [
       "[1] 18 19 20"
      ]
     },
     "metadata": {},
     "output_type": "display_data"
    }
   ],
   "source": [
    "age"
   ]
  },
  {
   "cell_type": "code",
   "execution_count": 53,
   "metadata": {
    "vscode": {
     "languageId": "r"
    }
   },
   "outputs": [],
   "source": [
    "mark<-c(488,421,311)"
   ]
  },
  {
   "cell_type": "code",
   "execution_count": 54,
   "metadata": {
    "vscode": {
     "languageId": "r"
    }
   },
   "outputs": [
    {
     "data": {
      "text/html": [
       "<style>\n",
       ".list-inline {list-style: none; margin:0; padding: 0}\n",
       ".list-inline>li {display: inline-block}\n",
       ".list-inline>li:not(:last-child)::after {content: \"\\00b7\"; padding: 0 .5ex}\n",
       "</style>\n",
       "<ol class=list-inline><li>488</li><li>421</li><li>311</li></ol>\n"
      ],
      "text/latex": [
       "\\begin{enumerate*}\n",
       "\\item 488\n",
       "\\item 421\n",
       "\\item 311\n",
       "\\end{enumerate*}\n"
      ],
      "text/markdown": [
       "1. 488\n",
       "2. 421\n",
       "3. 311\n",
       "\n",
       "\n"
      ],
      "text/plain": [
       "[1] 488 421 311"
      ]
     },
     "metadata": {},
     "output_type": "display_data"
    }
   ],
   "source": [
    "mark"
   ]
  },
  {
   "cell_type": "code",
   "execution_count": 55,
   "metadata": {
    "vscode": {
     "languageId": "r"
    }
   },
   "outputs": [],
   "source": [
    "df<-data.frame(name,age,mark)"
   ]
  },
  {
   "cell_type": "code",
   "execution_count": 56,
   "metadata": {
    "vscode": {
     "languageId": "r"
    }
   },
   "outputs": [
    {
     "data": {
      "text/html": [
       "<table class=\"dataframe\">\n",
       "<caption>A data.frame: 3 × 3</caption>\n",
       "<thead>\n",
       "\t<tr><th scope=col>name</th><th scope=col>age</th><th scope=col>mark</th></tr>\n",
       "\t<tr><th scope=col>&lt;chr&gt;</th><th scope=col>&lt;dbl&gt;</th><th scope=col>&lt;dbl&gt;</th></tr>\n",
       "</thead>\n",
       "<tbody>\n",
       "\t<tr><td>hari  </td><td>18</td><td>488</td></tr>\n",
       "\t<tr><td>rob   </td><td>19</td><td>421</td></tr>\n",
       "\t<tr><td>martin</td><td>20</td><td>311</td></tr>\n",
       "</tbody>\n",
       "</table>\n"
      ],
      "text/latex": [
       "A data.frame: 3 × 3\n",
       "\\begin{tabular}{lll}\n",
       " name & age & mark\\\\\n",
       " <chr> & <dbl> & <dbl>\\\\\n",
       "\\hline\n",
       "\t hari   & 18 & 488\\\\\n",
       "\t rob    & 19 & 421\\\\\n",
       "\t martin & 20 & 311\\\\\n",
       "\\end{tabular}\n"
      ],
      "text/markdown": [
       "\n",
       "A data.frame: 3 × 3\n",
       "\n",
       "| name &lt;chr&gt; | age &lt;dbl&gt; | mark &lt;dbl&gt; |\n",
       "|---|---|---|\n",
       "| hari   | 18 | 488 |\n",
       "| rob    | 19 | 421 |\n",
       "| martin | 20 | 311 |\n",
       "\n"
      ],
      "text/plain": [
       "  name   age mark\n",
       "1 hari   18  488 \n",
       "2 rob    19  421 \n",
       "3 martin 20  311 "
      ]
     },
     "metadata": {},
     "output_type": "display_data"
    }
   ],
   "source": [
    "df"
   ]
  },
  {
   "cell_type": "code",
   "execution_count": 57,
   "metadata": {
    "vscode": {
     "languageId": "r"
    }
   },
   "outputs": [
    {
     "data": {
      "text/html": [
       "<style>\n",
       ".list-inline {list-style: none; margin:0; padding: 0}\n",
       ".list-inline>li {display: inline-block}\n",
       ".list-inline>li:not(:last-child)::after {content: \"\\00b7\"; padding: 0 .5ex}\n",
       "</style>\n",
       "<ol class=list-inline><li>'name'</li><li>'age'</li><li>'mark'</li></ol>\n"
      ],
      "text/latex": [
       "\\begin{enumerate*}\n",
       "\\item 'name'\n",
       "\\item 'age'\n",
       "\\item 'mark'\n",
       "\\end{enumerate*}\n"
      ],
      "text/markdown": [
       "1. 'name'\n",
       "2. 'age'\n",
       "3. 'mark'\n",
       "\n",
       "\n"
      ],
      "text/plain": [
       "[1] \"name\" \"age\"  \"mark\""
      ]
     },
     "metadata": {},
     "output_type": "display_data"
    }
   ],
   "source": [
    "names(df)"
   ]
  },
  {
   "cell_type": "code",
   "execution_count": 58,
   "metadata": {
    "vscode": {
     "languageId": "r"
    }
   },
   "outputs": [],
   "source": [
    "names(df)<-c(\"Names\",\"Age\",\"CGPA\")"
   ]
  },
  {
   "cell_type": "code",
   "execution_count": 59,
   "metadata": {
    "vscode": {
     "languageId": "r"
    }
   },
   "outputs": [
    {
     "data": {
      "text/html": [
       "<table class=\"dataframe\">\n",
       "<caption>A data.frame: 3 × 3</caption>\n",
       "<thead>\n",
       "\t<tr><th scope=col>Names</th><th scope=col>Age</th><th scope=col>CGPA</th></tr>\n",
       "\t<tr><th scope=col>&lt;chr&gt;</th><th scope=col>&lt;dbl&gt;</th><th scope=col>&lt;dbl&gt;</th></tr>\n",
       "</thead>\n",
       "<tbody>\n",
       "\t<tr><td>hari  </td><td>18</td><td>488</td></tr>\n",
       "\t<tr><td>rob   </td><td>19</td><td>421</td></tr>\n",
       "\t<tr><td>martin</td><td>20</td><td>311</td></tr>\n",
       "</tbody>\n",
       "</table>\n"
      ],
      "text/latex": [
       "A data.frame: 3 × 3\n",
       "\\begin{tabular}{lll}\n",
       " Names & Age & CGPA\\\\\n",
       " <chr> & <dbl> & <dbl>\\\\\n",
       "\\hline\n",
       "\t hari   & 18 & 488\\\\\n",
       "\t rob    & 19 & 421\\\\\n",
       "\t martin & 20 & 311\\\\\n",
       "\\end{tabular}\n"
      ],
      "text/markdown": [
       "\n",
       "A data.frame: 3 × 3\n",
       "\n",
       "| Names &lt;chr&gt; | Age &lt;dbl&gt; | CGPA &lt;dbl&gt; |\n",
       "|---|---|---|\n",
       "| hari   | 18 | 488 |\n",
       "| rob    | 19 | 421 |\n",
       "| martin | 20 | 311 |\n",
       "\n"
      ],
      "text/plain": [
       "  Names  Age CGPA\n",
       "1 hari   18  488 \n",
       "2 rob    19  421 \n",
       "3 martin 20  311 "
      ]
     },
     "metadata": {},
     "output_type": "display_data"
    }
   ],
   "source": [
    "df"
   ]
  },
  {
   "cell_type": "code",
   "execution_count": 60,
   "metadata": {
    "vscode": {
     "languageId": "r"
    }
   },
   "outputs": [],
   "source": [
    "df<-data.frame(Name=name,Age=age,CGPA=mark)"
   ]
  },
  {
   "cell_type": "code",
   "execution_count": 61,
   "metadata": {
    "vscode": {
     "languageId": "r"
    }
   },
   "outputs": [
    {
     "data": {
      "text/html": [
       "<table class=\"dataframe\">\n",
       "<caption>A data.frame: 3 × 3</caption>\n",
       "<thead>\n",
       "\t<tr><th scope=col>Name</th><th scope=col>Age</th><th scope=col>CGPA</th></tr>\n",
       "\t<tr><th scope=col>&lt;chr&gt;</th><th scope=col>&lt;dbl&gt;</th><th scope=col>&lt;dbl&gt;</th></tr>\n",
       "</thead>\n",
       "<tbody>\n",
       "\t<tr><td>hari  </td><td>18</td><td>488</td></tr>\n",
       "\t<tr><td>rob   </td><td>19</td><td>421</td></tr>\n",
       "\t<tr><td>martin</td><td>20</td><td>311</td></tr>\n",
       "</tbody>\n",
       "</table>\n"
      ],
      "text/latex": [
       "A data.frame: 3 × 3\n",
       "\\begin{tabular}{lll}\n",
       " Name & Age & CGPA\\\\\n",
       " <chr> & <dbl> & <dbl>\\\\\n",
       "\\hline\n",
       "\t hari   & 18 & 488\\\\\n",
       "\t rob    & 19 & 421\\\\\n",
       "\t martin & 20 & 311\\\\\n",
       "\\end{tabular}\n"
      ],
      "text/markdown": [
       "\n",
       "A data.frame: 3 × 3\n",
       "\n",
       "| Name &lt;chr&gt; | Age &lt;dbl&gt; | CGPA &lt;dbl&gt; |\n",
       "|---|---|---|\n",
       "| hari   | 18 | 488 |\n",
       "| rob    | 19 | 421 |\n",
       "| martin | 20 | 311 |\n",
       "\n"
      ],
      "text/plain": [
       "  Name   Age CGPA\n",
       "1 hari   18  488 \n",
       "2 rob    19  421 \n",
       "3 martin 20  311 "
      ]
     },
     "metadata": {},
     "output_type": "display_data"
    }
   ],
   "source": [
    "df"
   ]
  },
  {
   "cell_type": "code",
   "execution_count": 62,
   "metadata": {
    "vscode": {
     "languageId": "r"
    }
   },
   "outputs": [
    {
     "name": "stdout",
     "output_type": "stream",
     "text": [
      "'data.frame':\t3 obs. of  3 variables:\n",
      " $ Name: chr  \"hari\" \"rob\" \"martin\"\n",
      " $ Age : num  18 19 20\n",
      " $ CGPA: num  488 421 311\n"
     ]
    }
   ],
   "source": [
    "str(df)"
   ]
  },
  {
   "cell_type": "code",
   "execution_count": 63,
   "metadata": {
    "vscode": {
     "languageId": "r"
    }
   },
   "outputs": [
    {
     "data": {
      "text/html": [
       "'hari'"
      ],
      "text/latex": [
       "'hari'"
      ],
      "text/markdown": [
       "'hari'"
      ],
      "text/plain": [
       "[1] \"hari\""
      ]
     },
     "metadata": {},
     "output_type": "display_data"
    }
   ],
   "source": [
    "df[1,1]"
   ]
  },
  {
   "cell_type": "code",
   "execution_count": 64,
   "metadata": {
    "vscode": {
     "languageId": "r"
    }
   },
   "outputs": [
    {
     "data": {
      "text/html": [
       "18"
      ],
      "text/latex": [
       "18"
      ],
      "text/markdown": [
       "18"
      ],
      "text/plain": [
       "[1] 18"
      ]
     },
     "metadata": {},
     "output_type": "display_data"
    }
   ],
   "source": [
    "df[1,2]"
   ]
  },
  {
   "cell_type": "code",
   "execution_count": 65,
   "metadata": {
    "vscode": {
     "languageId": "r"
    }
   },
   "outputs": [
    {
     "data": {
      "text/html": [
       "488"
      ],
      "text/latex": [
       "488"
      ],
      "text/markdown": [
       "488"
      ],
      "text/plain": [
       "[1] 488"
      ]
     },
     "metadata": {},
     "output_type": "display_data"
    }
   ],
   "source": [
    "df[1,3]"
   ]
  },
  {
   "cell_type": "code",
   "execution_count": 66,
   "metadata": {
    "vscode": {
     "languageId": "r"
    }
   },
   "outputs": [
    {
     "data": {
      "text/html": [
       "<table class=\"dataframe\">\n",
       "<caption>A data.frame: 3 × 1</caption>\n",
       "<thead>\n",
       "\t<tr><th scope=col>Name</th></tr>\n",
       "\t<tr><th scope=col>&lt;chr&gt;</th></tr>\n",
       "</thead>\n",
       "<tbody>\n",
       "\t<tr><td>hari  </td></tr>\n",
       "\t<tr><td>rob   </td></tr>\n",
       "\t<tr><td>martin</td></tr>\n",
       "</tbody>\n",
       "</table>\n"
      ],
      "text/latex": [
       "A data.frame: 3 × 1\n",
       "\\begin{tabular}{l}\n",
       " Name\\\\\n",
       " <chr>\\\\\n",
       "\\hline\n",
       "\t hari  \\\\\n",
       "\t rob   \\\\\n",
       "\t martin\\\\\n",
       "\\end{tabular}\n"
      ],
      "text/markdown": [
       "\n",
       "A data.frame: 3 × 1\n",
       "\n",
       "| Name &lt;chr&gt; |\n",
       "|---|\n",
       "| hari   |\n",
       "| rob    |\n",
       "| martin |\n",
       "\n"
      ],
      "text/plain": [
       "  Name  \n",
       "1 hari  \n",
       "2 rob   \n",
       "3 martin"
      ]
     },
     "metadata": {},
     "output_type": "display_data"
    }
   ],
   "source": [
    "df[1]"
   ]
  },
  {
   "cell_type": "code",
   "execution_count": 67,
   "metadata": {
    "vscode": {
     "languageId": "r"
    }
   },
   "outputs": [
    {
     "data": {
      "text/html": [
       "<table class=\"dataframe\">\n",
       "<caption>A data.frame: 3 × 1</caption>\n",
       "<thead>\n",
       "\t<tr><th scope=col>Name</th></tr>\n",
       "\t<tr><th scope=col>&lt;chr&gt;</th></tr>\n",
       "</thead>\n",
       "<tbody>\n",
       "\t<tr><td>hari  </td></tr>\n",
       "\t<tr><td>rob   </td></tr>\n",
       "\t<tr><td>martin</td></tr>\n",
       "</tbody>\n",
       "</table>\n"
      ],
      "text/latex": [
       "A data.frame: 3 × 1\n",
       "\\begin{tabular}{l}\n",
       " Name\\\\\n",
       " <chr>\\\\\n",
       "\\hline\n",
       "\t hari  \\\\\n",
       "\t rob   \\\\\n",
       "\t martin\\\\\n",
       "\\end{tabular}\n"
      ],
      "text/markdown": [
       "\n",
       "A data.frame: 3 × 1\n",
       "\n",
       "| Name &lt;chr&gt; |\n",
       "|---|\n",
       "| hari   |\n",
       "| rob    |\n",
       "| martin |\n",
       "\n"
      ],
      "text/plain": [
       "  Name  \n",
       "1 hari  \n",
       "2 rob   \n",
       "3 martin"
      ]
     },
     "metadata": {},
     "output_type": "display_data"
    }
   ],
   "source": [
    "df[\"Name\"]"
   ]
  },
  {
   "cell_type": "code",
   "execution_count": 68,
   "metadata": {
    "vscode": {
     "languageId": "r"
    }
   },
   "outputs": [
    {
     "data": {
      "text/html": [
       "<table class=\"dataframe\">\n",
       "<caption>A data.frame: 3 × 1</caption>\n",
       "<thead>\n",
       "\t<tr><th scope=col>Age</th></tr>\n",
       "\t<tr><th scope=col>&lt;dbl&gt;</th></tr>\n",
       "</thead>\n",
       "<tbody>\n",
       "\t<tr><td>18</td></tr>\n",
       "\t<tr><td>19</td></tr>\n",
       "\t<tr><td>20</td></tr>\n",
       "</tbody>\n",
       "</table>\n"
      ],
      "text/latex": [
       "A data.frame: 3 × 1\n",
       "\\begin{tabular}{l}\n",
       " Age\\\\\n",
       " <dbl>\\\\\n",
       "\\hline\n",
       "\t 18\\\\\n",
       "\t 19\\\\\n",
       "\t 20\\\\\n",
       "\\end{tabular}\n"
      ],
      "text/markdown": [
       "\n",
       "A data.frame: 3 × 1\n",
       "\n",
       "| Age &lt;dbl&gt; |\n",
       "|---|\n",
       "| 18 |\n",
       "| 19 |\n",
       "| 20 |\n",
       "\n"
      ],
      "text/plain": [
       "  Age\n",
       "1 18 \n",
       "2 19 \n",
       "3 20 "
      ]
     },
     "metadata": {},
     "output_type": "display_data"
    }
   ],
   "source": [
    "df[\"Age\"]"
   ]
  },
  {
   "cell_type": "code",
   "execution_count": 69,
   "metadata": {
    "vscode": {
     "languageId": "r"
    }
   },
   "outputs": [
    {
     "data": {
      "text/html": [
       "<table class=\"dataframe\">\n",
       "<caption>A data.frame: 3 × 2</caption>\n",
       "<thead>\n",
       "\t<tr><th scope=col>Name</th><th scope=col>CGPA</th></tr>\n",
       "\t<tr><th scope=col>&lt;chr&gt;</th><th scope=col>&lt;dbl&gt;</th></tr>\n",
       "</thead>\n",
       "<tbody>\n",
       "\t<tr><td>hari  </td><td>488</td></tr>\n",
       "\t<tr><td>rob   </td><td>421</td></tr>\n",
       "\t<tr><td>martin</td><td>311</td></tr>\n",
       "</tbody>\n",
       "</table>\n"
      ],
      "text/latex": [
       "A data.frame: 3 × 2\n",
       "\\begin{tabular}{ll}\n",
       " Name & CGPA\\\\\n",
       " <chr> & <dbl>\\\\\n",
       "\\hline\n",
       "\t hari   & 488\\\\\n",
       "\t rob    & 421\\\\\n",
       "\t martin & 311\\\\\n",
       "\\end{tabular}\n"
      ],
      "text/markdown": [
       "\n",
       "A data.frame: 3 × 2\n",
       "\n",
       "| Name &lt;chr&gt; | CGPA &lt;dbl&gt; |\n",
       "|---|---|\n",
       "| hari   | 488 |\n",
       "| rob    | 421 |\n",
       "| martin | 311 |\n",
       "\n"
      ],
      "text/plain": [
       "  Name   CGPA\n",
       "1 hari   488 \n",
       "2 rob    421 \n",
       "3 martin 311 "
      ]
     },
     "metadata": {},
     "output_type": "display_data"
    }
   ],
   "source": [
    "df[c(1,3)]"
   ]
  },
  {
   "cell_type": "code",
   "execution_count": 70,
   "metadata": {
    "vscode": {
     "languageId": "r"
    }
   },
   "outputs": [
    {
     "data": {
      "text/html": [
       "<table class=\"dataframe\">\n",
       "<caption>A data.frame: 2 × 2</caption>\n",
       "<thead>\n",
       "\t<tr><th></th><th scope=col>Age</th><th scope=col>CGPA</th></tr>\n",
       "\t<tr><th></th><th scope=col>&lt;dbl&gt;</th><th scope=col>&lt;dbl&gt;</th></tr>\n",
       "</thead>\n",
       "<tbody>\n",
       "\t<tr><th scope=row>1</th><td>18</td><td>488</td></tr>\n",
       "\t<tr><th scope=row>3</th><td>20</td><td>311</td></tr>\n",
       "</tbody>\n",
       "</table>\n"
      ],
      "text/latex": [
       "A data.frame: 2 × 2\n",
       "\\begin{tabular}{r|ll}\n",
       "  & Age & CGPA\\\\\n",
       "  & <dbl> & <dbl>\\\\\n",
       "\\hline\n",
       "\t1 & 18 & 488\\\\\n",
       "\t3 & 20 & 311\\\\\n",
       "\\end{tabular}\n"
      ],
      "text/markdown": [
       "\n",
       "A data.frame: 2 × 2\n",
       "\n",
       "| <!--/--> | Age &lt;dbl&gt; | CGPA &lt;dbl&gt; |\n",
       "|---|---|---|\n",
       "| 1 | 18 | 488 |\n",
       "| 3 | 20 | 311 |\n",
       "\n"
      ],
      "text/plain": [
       "  Age CGPA\n",
       "1 18  488 \n",
       "3 20  311 "
      ]
     },
     "metadata": {},
     "output_type": "display_data"
    }
   ],
   "source": [
    "df[c(1,3),c(\"Age\",\"CGPA\")]"
   ]
  },
  {
   "cell_type": "code",
   "execution_count": 71,
   "metadata": {
    "vscode": {
     "languageId": "r"
    }
   },
   "outputs": [
    {
     "data": {
      "text/html": [
       "<style>\n",
       ".list-inline {list-style: none; margin:0; padding: 0}\n",
       ".list-inline>li {display: inline-block}\n",
       ".list-inline>li:not(:last-child)::after {content: \"\\00b7\"; padding: 0 .5ex}\n",
       "</style>\n",
       "<ol class=list-inline><li>'hari'</li><li>'rob'</li><li>'martin'</li></ol>\n"
      ],
      "text/latex": [
       "\\begin{enumerate*}\n",
       "\\item 'hari'\n",
       "\\item 'rob'\n",
       "\\item 'martin'\n",
       "\\end{enumerate*}\n"
      ],
      "text/markdown": [
       "1. 'hari'\n",
       "2. 'rob'\n",
       "3. 'martin'\n",
       "\n",
       "\n"
      ],
      "text/plain": [
       "[1] \"hari\"   \"rob\"    \"martin\""
      ]
     },
     "metadata": {},
     "output_type": "display_data"
    }
   ],
   "source": [
    "df$Name"
   ]
  },
  {
   "cell_type": "code",
   "execution_count": 72,
   "metadata": {
    "vscode": {
     "languageId": "r"
    }
   },
   "outputs": [
    {
     "data": {
      "text/html": [
       "<style>\n",
       ".list-inline {list-style: none; margin:0; padding: 0}\n",
       ".list-inline>li {display: inline-block}\n",
       ".list-inline>li:not(:last-child)::after {content: \"\\00b7\"; padding: 0 .5ex}\n",
       "</style>\n",
       "<ol class=list-inline><li>18</li><li>19</li><li>20</li></ol>\n"
      ],
      "text/latex": [
       "\\begin{enumerate*}\n",
       "\\item 18\n",
       "\\item 19\n",
       "\\item 20\n",
       "\\end{enumerate*}\n"
      ],
      "text/markdown": [
       "1. 18\n",
       "2. 19\n",
       "3. 20\n",
       "\n",
       "\n"
      ],
      "text/plain": [
       "[1] 18 19 20"
      ]
     },
     "metadata": {},
     "output_type": "display_data"
    }
   ],
   "source": [
    "df$Age"
   ]
  },
  {
   "cell_type": "code",
   "execution_count": 73,
   "metadata": {
    "vscode": {
     "languageId": "r"
    }
   },
   "outputs": [
    {
     "data": {
      "text/html": [
       "<style>\n",
       ".list-inline {list-style: none; margin:0; padding: 0}\n",
       ".list-inline>li {display: inline-block}\n",
       ".list-inline>li:not(:last-child)::after {content: \"\\00b7\"; padding: 0 .5ex}\n",
       "</style>\n",
       "<ol class=list-inline><li>488</li><li>421</li><li>311</li></ol>\n"
      ],
      "text/latex": [
       "\\begin{enumerate*}\n",
       "\\item 488\n",
       "\\item 421\n",
       "\\item 311\n",
       "\\end{enumerate*}\n"
      ],
      "text/markdown": [
       "1. 488\n",
       "2. 421\n",
       "3. 311\n",
       "\n",
       "\n"
      ],
      "text/plain": [
       "[1] 488 421 311"
      ]
     },
     "metadata": {},
     "output_type": "display_data"
    }
   ],
   "source": [
    "df$CGPA"
   ]
  },
  {
   "cell_type": "code",
   "execution_count": 74,
   "metadata": {
    "vscode": {
     "languageId": "r"
    }
   },
   "outputs": [],
   "source": [
    "dep<-c(\"BCA\",\"CS\",\"IT\")"
   ]
  },
  {
   "cell_type": "code",
   "execution_count": 75,
   "metadata": {
    "vscode": {
     "languageId": "r"
    }
   },
   "outputs": [
    {
     "data": {
      "text/html": [
       "<style>\n",
       ".list-inline {list-style: none; margin:0; padding: 0}\n",
       ".list-inline>li {display: inline-block}\n",
       ".list-inline>li:not(:last-child)::after {content: \"\\00b7\"; padding: 0 .5ex}\n",
       "</style>\n",
       "<ol class=list-inline><li>'BCA'</li><li>'CS'</li><li>'IT'</li></ol>\n"
      ],
      "text/latex": [
       "\\begin{enumerate*}\n",
       "\\item 'BCA'\n",
       "\\item 'CS'\n",
       "\\item 'IT'\n",
       "\\end{enumerate*}\n"
      ],
      "text/markdown": [
       "1. 'BCA'\n",
       "2. 'CS'\n",
       "3. 'IT'\n",
       "\n",
       "\n"
      ],
      "text/plain": [
       "[1] \"BCA\" \"CS\"  \"IT\" "
      ]
     },
     "metadata": {},
     "output_type": "display_data"
    }
   ],
   "source": [
    "dep"
   ]
  },
  {
   "cell_type": "code",
   "execution_count": 76,
   "metadata": {
    "vscode": {
     "languageId": "r"
    }
   },
   "outputs": [],
   "source": [
    "df$dep<-dep"
   ]
  },
  {
   "cell_type": "code",
   "execution_count": 77,
   "metadata": {
    "vscode": {
     "languageId": "r"
    }
   },
   "outputs": [
    {
     "data": {
      "text/html": [
       "<table class=\"dataframe\">\n",
       "<caption>A data.frame: 3 × 4</caption>\n",
       "<thead>\n",
       "\t<tr><th scope=col>Name</th><th scope=col>Age</th><th scope=col>CGPA</th><th scope=col>dep</th></tr>\n",
       "\t<tr><th scope=col>&lt;chr&gt;</th><th scope=col>&lt;dbl&gt;</th><th scope=col>&lt;dbl&gt;</th><th scope=col>&lt;chr&gt;</th></tr>\n",
       "</thead>\n",
       "<tbody>\n",
       "\t<tr><td>hari  </td><td>18</td><td>488</td><td>BCA</td></tr>\n",
       "\t<tr><td>rob   </td><td>19</td><td>421</td><td>CS </td></tr>\n",
       "\t<tr><td>martin</td><td>20</td><td>311</td><td>IT </td></tr>\n",
       "</tbody>\n",
       "</table>\n"
      ],
      "text/latex": [
       "A data.frame: 3 × 4\n",
       "\\begin{tabular}{llll}\n",
       " Name & Age & CGPA & dep\\\\\n",
       " <chr> & <dbl> & <dbl> & <chr>\\\\\n",
       "\\hline\n",
       "\t hari   & 18 & 488 & BCA\\\\\n",
       "\t rob    & 19 & 421 & CS \\\\\n",
       "\t martin & 20 & 311 & IT \\\\\n",
       "\\end{tabular}\n"
      ],
      "text/markdown": [
       "\n",
       "A data.frame: 3 × 4\n",
       "\n",
       "| Name &lt;chr&gt; | Age &lt;dbl&gt; | CGPA &lt;dbl&gt; | dep &lt;chr&gt; |\n",
       "|---|---|---|---|\n",
       "| hari   | 18 | 488 | BCA |\n",
       "| rob    | 19 | 421 | CS  |\n",
       "| martin | 20 | 311 | IT  |\n",
       "\n"
      ],
      "text/plain": [
       "  Name   Age CGPA dep\n",
       "1 hari   18  488  BCA\n",
       "2 rob    19  421  CS \n",
       "3 martin 20  311  IT "
      ]
     },
     "metadata": {},
     "output_type": "display_data"
    }
   ],
   "source": [
    "df"
   ]
  },
  {
   "cell_type": "code",
   "execution_count": 78,
   "metadata": {
    "vscode": {
     "languageId": "r"
    }
   },
   "outputs": [],
   "source": [
    "sam<-data.frame(Name=\"sam\",Age=19,CGPA=499,dep=\"MBBS\")"
   ]
  },
  {
   "cell_type": "code",
   "execution_count": 79,
   "metadata": {
    "vscode": {
     "languageId": "r"
    }
   },
   "outputs": [
    {
     "data": {
      "text/html": [
       "<table class=\"dataframe\">\n",
       "<caption>A data.frame: 1 × 4</caption>\n",
       "<thead>\n",
       "\t<tr><th scope=col>Name</th><th scope=col>Age</th><th scope=col>CGPA</th><th scope=col>dep</th></tr>\n",
       "\t<tr><th scope=col>&lt;chr&gt;</th><th scope=col>&lt;dbl&gt;</th><th scope=col>&lt;dbl&gt;</th><th scope=col>&lt;chr&gt;</th></tr>\n",
       "</thead>\n",
       "<tbody>\n",
       "\t<tr><td>sam</td><td>19</td><td>499</td><td>MBBS</td></tr>\n",
       "</tbody>\n",
       "</table>\n"
      ],
      "text/latex": [
       "A data.frame: 1 × 4\n",
       "\\begin{tabular}{llll}\n",
       " Name & Age & CGPA & dep\\\\\n",
       " <chr> & <dbl> & <dbl> & <chr>\\\\\n",
       "\\hline\n",
       "\t sam & 19 & 499 & MBBS\\\\\n",
       "\\end{tabular}\n"
      ],
      "text/markdown": [
       "\n",
       "A data.frame: 1 × 4\n",
       "\n",
       "| Name &lt;chr&gt; | Age &lt;dbl&gt; | CGPA &lt;dbl&gt; | dep &lt;chr&gt; |\n",
       "|---|---|---|---|\n",
       "| sam | 19 | 499 | MBBS |\n",
       "\n"
      ],
      "text/plain": [
       "  Name Age CGPA dep \n",
       "1 sam  19  499  MBBS"
      ]
     },
     "metadata": {},
     "output_type": "display_data"
    }
   ],
   "source": [
    "sam"
   ]
  },
  {
   "cell_type": "code",
   "execution_count": 81,
   "metadata": {
    "vscode": {
     "languageId": "r"
    }
   },
   "outputs": [
    {
     "data": {
      "text/html": [
       "'list'"
      ],
      "text/latex": [
       "'list'"
      ],
      "text/markdown": [
       "'list'"
      ],
      "text/plain": [
       "[1] \"list\""
      ]
     },
     "metadata": {},
     "output_type": "display_data"
    }
   ],
   "source": [
    "typeof(sam)"
   ]
  },
  {
   "cell_type": "code",
   "execution_count": 82,
   "metadata": {
    "vscode": {
     "languageId": "r"
    }
   },
   "outputs": [
    {
     "data": {
      "text/html": [
       "'data.frame'"
      ],
      "text/latex": [
       "'data.frame'"
      ],
      "text/markdown": [
       "'data.frame'"
      ],
      "text/plain": [
       "[1] \"data.frame\""
      ]
     },
     "metadata": {},
     "output_type": "display_data"
    }
   ],
   "source": [
    "class(sam)"
   ]
  },
  {
   "cell_type": "code",
   "execution_count": 83,
   "metadata": {
    "vscode": {
     "languageId": "r"
    }
   },
   "outputs": [
    {
     "data": {
      "text/html": [
       "<table class=\"dataframe\">\n",
       "<caption>A data.frame: 4 × 4</caption>\n",
       "<thead>\n",
       "\t<tr><th scope=col>Name</th><th scope=col>Age</th><th scope=col>CGPA</th><th scope=col>dep</th></tr>\n",
       "\t<tr><th scope=col>&lt;chr&gt;</th><th scope=col>&lt;dbl&gt;</th><th scope=col>&lt;dbl&gt;</th><th scope=col>&lt;chr&gt;</th></tr>\n",
       "</thead>\n",
       "<tbody>\n",
       "\t<tr><td>hari  </td><td>18</td><td>488</td><td>BCA </td></tr>\n",
       "\t<tr><td>rob   </td><td>19</td><td>421</td><td>CS  </td></tr>\n",
       "\t<tr><td>martin</td><td>20</td><td>311</td><td>IT  </td></tr>\n",
       "\t<tr><td>sam   </td><td>19</td><td>499</td><td>MBBS</td></tr>\n",
       "</tbody>\n",
       "</table>\n"
      ],
      "text/latex": [
       "A data.frame: 4 × 4\n",
       "\\begin{tabular}{llll}\n",
       " Name & Age & CGPA & dep\\\\\n",
       " <chr> & <dbl> & <dbl> & <chr>\\\\\n",
       "\\hline\n",
       "\t hari   & 18 & 488 & BCA \\\\\n",
       "\t rob    & 19 & 421 & CS  \\\\\n",
       "\t martin & 20 & 311 & IT  \\\\\n",
       "\t sam    & 19 & 499 & MBBS\\\\\n",
       "\\end{tabular}\n"
      ],
      "text/markdown": [
       "\n",
       "A data.frame: 4 × 4\n",
       "\n",
       "| Name &lt;chr&gt; | Age &lt;dbl&gt; | CGPA &lt;dbl&gt; | dep &lt;chr&gt; |\n",
       "|---|---|---|---|\n",
       "| hari   | 18 | 488 | BCA  |\n",
       "| rob    | 19 | 421 | CS   |\n",
       "| martin | 20 | 311 | IT   |\n",
       "| sam    | 19 | 499 | MBBS |\n",
       "\n"
      ],
      "text/plain": [
       "  Name   Age CGPA dep \n",
       "1 hari   18  488  BCA \n",
       "2 rob    19  421  CS  \n",
       "3 martin 20  311  IT  \n",
       "4 sam    19  499  MBBS"
      ]
     },
     "metadata": {},
     "output_type": "display_data"
    }
   ],
   "source": [
    "rbind(df,sam)"
   ]
  },
  {
   "cell_type": "code",
   "execution_count": 85,
   "metadata": {
    "vscode": {
     "languageId": "r"
    }
   },
   "outputs": [
    {
     "data": {
      "text/html": [
       "<style>\n",
       ".list-inline {list-style: none; margin:0; padding: 0}\n",
       ".list-inline>li {display: inline-block}\n",
       ".list-inline>li:not(:last-child)::after {content: \"\\00b7\"; padding: 0 .5ex}\n",
       "</style>\n",
       "<ol class=list-inline><li>18</li><li>19</li><li>20</li></ol>\n"
      ],
      "text/latex": [
       "\\begin{enumerate*}\n",
       "\\item 18\n",
       "\\item 19\n",
       "\\item 20\n",
       "\\end{enumerate*}\n"
      ],
      "text/markdown": [
       "1. 18\n",
       "2. 19\n",
       "3. 20\n",
       "\n",
       "\n"
      ],
      "text/plain": [
       "[1] 18 19 20"
      ]
     },
     "metadata": {},
     "output_type": "display_data"
    }
   ],
   "source": [
    "sort(df$Age)"
   ]
  },
  {
   "cell_type": "markdown",
   "metadata": {},
   "source": [
    "# linear regression in R"
   ]
  },
  {
   "cell_type": "code",
   "execution_count": 87,
   "metadata": {
    "vscode": {
     "languageId": "r"
    }
   },
   "outputs": [],
   "source": [
    "x <- c(151, 174, 138, 186, 128, 136, 179, 163, 152, 131)\n",
    "y <- c(63, 81, 56, 91, 47, 57, 76, 72, 62, 48)"
   ]
  },
  {
   "cell_type": "code",
   "execution_count": 89,
   "metadata": {
    "vscode": {
     "languageId": "r"
    }
   },
   "outputs": [
    {
     "data": {
      "text/html": [
       "<style>\n",
       ".list-inline {list-style: none; margin:0; padding: 0}\n",
       ".list-inline>li {display: inline-block}\n",
       ".list-inline>li:not(:last-child)::after {content: \"\\00b7\"; padding: 0 .5ex}\n",
       "</style>\n",
       "<ol class=list-inline><li>151</li><li>174</li><li>138</li><li>186</li><li>128</li><li>136</li><li>179</li><li>163</li><li>152</li><li>131</li></ol>\n"
      ],
      "text/latex": [
       "\\begin{enumerate*}\n",
       "\\item 151\n",
       "\\item 174\n",
       "\\item 138\n",
       "\\item 186\n",
       "\\item 128\n",
       "\\item 136\n",
       "\\item 179\n",
       "\\item 163\n",
       "\\item 152\n",
       "\\item 131\n",
       "\\end{enumerate*}\n"
      ],
      "text/markdown": [
       "1. 151\n",
       "2. 174\n",
       "3. 138\n",
       "4. 186\n",
       "5. 128\n",
       "6. 136\n",
       "7. 179\n",
       "8. 163\n",
       "9. 152\n",
       "10. 131\n",
       "\n",
       "\n"
      ],
      "text/plain": [
       " [1] 151 174 138 186 128 136 179 163 152 131"
      ]
     },
     "metadata": {},
     "output_type": "display_data"
    },
    {
     "data": {
      "text/html": [
       "<style>\n",
       ".list-inline {list-style: none; margin:0; padding: 0}\n",
       ".list-inline>li {display: inline-block}\n",
       ".list-inline>li:not(:last-child)::after {content: \"\\00b7\"; padding: 0 .5ex}\n",
       "</style>\n",
       "<ol class=list-inline><li>63</li><li>81</li><li>56</li><li>91</li><li>47</li><li>57</li><li>76</li><li>72</li><li>62</li><li>48</li></ol>\n"
      ],
      "text/latex": [
       "\\begin{enumerate*}\n",
       "\\item 63\n",
       "\\item 81\n",
       "\\item 56\n",
       "\\item 91\n",
       "\\item 47\n",
       "\\item 57\n",
       "\\item 76\n",
       "\\item 72\n",
       "\\item 62\n",
       "\\item 48\n",
       "\\end{enumerate*}\n"
      ],
      "text/markdown": [
       "1. 63\n",
       "2. 81\n",
       "3. 56\n",
       "4. 91\n",
       "5. 47\n",
       "6. 57\n",
       "7. 76\n",
       "8. 72\n",
       "9. 62\n",
       "10. 48\n",
       "\n",
       "\n"
      ],
      "text/plain": [
       " [1] 63 81 56 91 47 57 76 72 62 48"
      ]
     },
     "metadata": {},
     "output_type": "display_data"
    }
   ],
   "source": [
    "x\n",
    "y"
   ]
  },
  {
   "cell_type": "code",
   "execution_count": 100,
   "metadata": {
    "vscode": {
     "languageId": "r"
    }
   },
   "outputs": [
    {
     "data": {
      "image/png": "[encoded data removed]",
      "text/plain": [
       "Plot with title \"Height and weight Regression\""
      ]
     },
     "metadata": {
      "image/png": {
       "height": 420,
       "width": 420
      }
     },
     "output_type": "display_data"
    }
   ],
   "source": [
    "plot(y,x,main=\"Height and weight Regression\",xlab=\"weight in KG\",ylab=\"Height in cm\",pch=14,cex=1.3,col=\"red\",abline(lm(x~y)))"
   ]
  },
  {
   "cell_type": "code",
   "execution_count": 101,
   "metadata": {
    "vscode": {
     "languageId": "r"
    }
   },
   "outputs": [
    {
     "data": {
      "text/html": [
       "<strong>null device:</strong> 1"
      ],
      "text/latex": [
       "\\textbf{null device:} 1"
      ],
      "text/markdown": [
       "**null device:** 1"
      ],
      "text/plain": [
       "null device \n",
       "          1 "
      ]
     },
     "metadata": {},
     "output_type": "display_data"
    }
   ],
   "source": [
    "dev.off()"
   ]
  },
  {
   "cell_type": "markdown",
   "metadata": {},
   "source": [
    "# Decision Tree in R"
   ]
  },
  {
   "cell_type": "code",
   "execution_count": 108,
   "metadata": {
    "vscode": {
     "languageId": "r"
    }
   },
   "outputs": [
    {
     "name": "stderr",
     "output_type": "stream",
     "text": [
      "Warning message:\n",
      "\"package 'caTools' is in use and will not be installed\"\n",
      "Installing package into 'C:/Users/haric/AppData/Local/R/win-library/4.3'\n",
      "(as 'lib' is unspecified)\n",
      "\n"
     ]
    },
    {
     "name": "stderr",
     "output_type": "stream",
     "text": [
      "also installing the dependencies 'TH.data', 'libcoin', 'matrixStats', 'multcomp', 'mvtnorm', 'modeltools', 'strucchange', 'coin', 'zoo', 'sandwich'\n",
      "\n",
      "\n"
     ]
    },
    {
     "name": "stdout",
     "output_type": "stream",
     "text": [
      "package 'TH.data' successfully unpacked and MD5 sums checked\n",
      "package 'libcoin' successfully unpacked and MD5 sums checked\n",
      "package 'matrixStats' successfully unpacked and MD5 sums checked\n",
      "package 'multcomp' successfully unpacked and MD5 sums checked\n",
      "package 'mvtnorm' successfully unpacked and MD5 sums checked\n",
      "package 'modeltools' successfully unpacked and MD5 sums checked\n",
      "package 'strucchange' successfully unpacked and MD5 sums checked\n",
      "package 'coin' successfully unpacked and MD5 sums checked\n",
      "package 'zoo' successfully unpacked and MD5 sums checked\n",
      "package 'sandwich' successfully unpacked and MD5 sums checked\n",
      "package 'party' successfully unpacked and MD5 sums checked\n",
      "\n",
      "The downloaded binary packages are in\n",
      "\tC:\\Users\\haric\\AppData\\Local\\Temp\\Rtmp02YMX7\\downloaded_packages\n"
     ]
    }
   ],
   "source": [
    "install.packages(\"caTools\")\n",
    "install.packages(\"party\")"
   ]
  },
  {
   "cell_type": "code",
   "execution_count": 109,
   "metadata": {
    "vscode": {
     "languageId": "r"
    }
   },
   "outputs": [
    {
     "name": "stderr",
     "output_type": "stream",
     "text": [
      "Loading required package: grid\n",
      "\n"
     ]
    },
    {
     "name": "stderr",
     "output_type": "stream",
     "text": [
      "Loading required package: mvtnorm\n",
      "\n",
      "Loading required package: modeltools\n",
      "\n",
      "Loading required package: stats4\n",
      "\n",
      "Loading required package: strucchange\n",
      "\n",
      "Loading required package: zoo\n",
      "\n",
      "\n",
      "Attaching package: 'zoo'\n",
      "\n",
      "\n",
      "The following objects are masked from 'package:base':\n",
      "\n",
      "    as.Date, as.Date.numeric\n",
      "\n",
      "\n",
      "Loading required package: sandwich\n",
      "\n",
      "\n",
      "Attaching package: 'dplyr'\n",
      "\n",
      "\n",
      "The following object is masked from 'package:party':\n",
      "\n",
      "    where\n",
      "\n",
      "\n",
      "The following objects are masked from 'package:stats':\n",
      "\n",
      "    filter, lag\n",
      "\n",
      "\n",
      "The following objects are masked from 'package:base':\n",
      "\n",
      "    intersect, setdiff, setequal, union\n",
      "\n",
      "\n"
     ]
    }
   ],
   "source": [
    "library(datasets)\n",
    "library(caTools)\n",
    "library(party)\n",
    "library(dplyr)\n",
    "library(magrittr)"
   ]
  },
  {
   "cell_type": "code",
   "execution_count": 111,
   "metadata": {
    "vscode": {
     "languageId": "r"
    }
   },
   "outputs": [
    {
     "data": {
      "text/html": [
       "<table class=\"dataframe\">\n",
       "<caption>A data.frame: 6 × 4</caption>\n",
       "<thead>\n",
       "\t<tr><th></th><th scope=col>nativeSpeaker</th><th scope=col>age</th><th scope=col>shoeSize</th><th scope=col>score</th></tr>\n",
       "\t<tr><th></th><th scope=col>&lt;fct&gt;</th><th scope=col>&lt;int&gt;</th><th scope=col>&lt;dbl&gt;</th><th scope=col>&lt;dbl&gt;</th></tr>\n",
       "</thead>\n",
       "<tbody>\n",
       "\t<tr><th scope=row>1</th><td>yes</td><td> 5</td><td>24.83189</td><td>32.29385</td></tr>\n",
       "\t<tr><th scope=row>2</th><td>yes</td><td> 6</td><td>25.95238</td><td>36.63105</td></tr>\n",
       "\t<tr><th scope=row>3</th><td>no </td><td>11</td><td>30.42170</td><td>49.60593</td></tr>\n",
       "\t<tr><th scope=row>4</th><td>yes</td><td> 7</td><td>28.66450</td><td>40.28456</td></tr>\n",
       "\t<tr><th scope=row>5</th><td>yes</td><td>11</td><td>31.88207</td><td>55.46085</td></tr>\n",
       "\t<tr><th scope=row>6</th><td>yes</td><td>10</td><td>30.07843</td><td>52.83124</td></tr>\n",
       "</tbody>\n",
       "</table>\n"
      ],
      "text/latex": [
       "A data.frame: 6 × 4\n",
       "\\begin{tabular}{r|llll}\n",
       "  & nativeSpeaker & age & shoeSize & score\\\\\n",
       "  & <fct> & <int> & <dbl> & <dbl>\\\\\n",
       "\\hline\n",
       "\t1 & yes &  5 & 24.83189 & 32.29385\\\\\n",
       "\t2 & yes &  6 & 25.95238 & 36.63105\\\\\n",
       "\t3 & no  & 11 & 30.42170 & 49.60593\\\\\n",
       "\t4 & yes &  7 & 28.66450 & 40.28456\\\\\n",
       "\t5 & yes & 11 & 31.88207 & 55.46085\\\\\n",
       "\t6 & yes & 10 & 30.07843 & 52.83124\\\\\n",
       "\\end{tabular}\n"
      ],
      "text/markdown": [
       "\n",
       "A data.frame: 6 × 4\n",
       "\n",
       "| <!--/--> | nativeSpeaker &lt;fct&gt; | age &lt;int&gt; | shoeSize &lt;dbl&gt; | score &lt;dbl&gt; |\n",
       "|---|---|---|---|---|\n",
       "| 1 | yes |  5 | 24.83189 | 32.29385 |\n",
       "| 2 | yes |  6 | 25.95238 | 36.63105 |\n",
       "| 3 | no  | 11 | 30.42170 | 49.60593 |\n",
       "| 4 | yes |  7 | 28.66450 | 40.28456 |\n",
       "| 5 | yes | 11 | 31.88207 | 55.46085 |\n",
       "| 6 | yes | 10 | 30.07843 | 52.83124 |\n",
       "\n"
      ],
      "text/plain": [
       "  nativeSpeaker age shoeSize score   \n",
       "1 yes            5  24.83189 32.29385\n",
       "2 yes            6  25.95238 36.63105\n",
       "3 no            11  30.42170 49.60593\n",
       "4 yes            7  28.66450 40.28456\n",
       "5 yes           11  31.88207 55.46085\n",
       "6 yes           10  30.07843 52.83124"
      ]
     },
     "metadata": {},
     "output_type": "display_data"
    }
   ],
   "source": [
    "data(\"readingSkills\")\n",
    "head(readingSkills)"
   ]
  },
  {
   "cell_type": "code",
   "execution_count": 112,
   "metadata": {
    "vscode": {
     "languageId": "r"
    }
   },
   "outputs": [],
   "source": [
    "sample_data = sample.split(readingSkills, SplitRatio = 0.8)"
   ]
  },
  {
   "cell_type": "code",
   "execution_count": 113,
   "metadata": {
    "vscode": {
     "languageId": "r"
    }
   },
   "outputs": [
    {
     "data": {
      "text/html": [
       "<style>\n",
       ".list-inline {list-style: none; margin:0; padding: 0}\n",
       ".list-inline>li {display: inline-block}\n",
       ".list-inline>li:not(:last-child)::after {content: \"\\00b7\"; padding: 0 .5ex}\n",
       "</style>\n",
       "<ol class=list-inline><li>TRUE</li><li>TRUE</li><li>TRUE</li><li>FALSE</li></ol>\n"
      ],
      "text/latex": [
       "\\begin{enumerate*}\n",
       "\\item TRUE\n",
       "\\item TRUE\n",
       "\\item TRUE\n",
       "\\item FALSE\n",
       "\\end{enumerate*}\n"
      ],
      "text/markdown": [
       "1. TRUE\n",
       "2. TRUE\n",
       "3. TRUE\n",
       "4. FALSE\n",
       "\n",
       "\n"
      ],
      "text/plain": [
       "[1]  TRUE  TRUE  TRUE FALSE"
      ]
     },
     "metadata": {},
     "output_type": "display_data"
    }
   ],
   "source": [
    "sample_data"
   ]
  },
  {
   "cell_type": "code",
   "execution_count": 114,
   "metadata": {
    "vscode": {
     "languageId": "r"
    }
   },
   "outputs": [],
   "source": [
    "train_data <- subset(readingSkills, sample_data == TRUE)"
   ]
  },
  {
   "cell_type": "code",
   "execution_count": 115,
   "metadata": {
    "vscode": {
     "languageId": "r"
    }
   },
   "outputs": [
    {
     "data": {
      "text/html": [
       "<table class=\"dataframe\">\n",
       "<caption>A data.frame: 150 × 4</caption>\n",
       "<thead>\n",
       "\t<tr><th></th><th scope=col>nativeSpeaker</th><th scope=col>age</th><th scope=col>shoeSize</th><th scope=col>score</th></tr>\n",
       "\t<tr><th></th><th scope=col>&lt;fct&gt;</th><th scope=col>&lt;int&gt;</th><th scope=col>&lt;dbl&gt;</th><th scope=col>&lt;dbl&gt;</th></tr>\n",
       "</thead>\n",
       "<tbody>\n",
       "\t<tr><th scope=row>1</th><td>yes</td><td> 5</td><td>24.83189</td><td>32.29385</td></tr>\n",
       "\t<tr><th scope=row>2</th><td>yes</td><td> 6</td><td>25.95238</td><td>36.63105</td></tr>\n",
       "\t<tr><th scope=row>3</th><td>no </td><td>11</td><td>30.42170</td><td>49.60593</td></tr>\n",
       "\t<tr><th scope=row>5</th><td>yes</td><td>11</td><td>31.88207</td><td>55.46085</td></tr>\n",
       "\t<tr><th scope=row>6</th><td>yes</td><td>10</td><td>30.07843</td><td>52.83124</td></tr>\n",
       "\t<tr><th scope=row>7</th><td>no </td><td> 7</td><td>27.25963</td><td>34.40229</td></tr>\n",
       "\t<tr><th scope=row>9</th><td>yes</td><td> 5</td><td>25.64411</td><td>32.49935</td></tr>\n",
       "\t<tr><th scope=row>10</th><td>no </td><td> 7</td><td>26.69835</td><td>33.93269</td></tr>\n",
       "\t<tr><th scope=row>11</th><td>yes</td><td>11</td><td>31.86645</td><td>55.46876</td></tr>\n",
       "\t<tr><th scope=row>13</th><td>no </td><td> 9</td><td>29.13156</td><td>41.77098</td></tr>\n",
       "\t<tr><th scope=row>14</th><td>no </td><td> 6</td><td>26.86513</td><td>30.03304</td></tr>\n",
       "\t<tr><th scope=row>15</th><td>no </td><td> 5</td><td>24.23420</td><td>25.62268</td></tr>\n",
       "\t<tr><th scope=row>17</th><td>no </td><td> 5</td><td>24.86357</td><td>25.62843</td></tr>\n",
       "\t<tr><th scope=row>18</th><td>no </td><td> 6</td><td>26.15357</td><td>30.76591</td></tr>\n",
       "\t<tr><th scope=row>19</th><td>no </td><td> 9</td><td>27.82057</td><td>41.93846</td></tr>\n",
       "\t<tr><th scope=row>21</th><td>no </td><td> 6</td><td>25.21054</td><td>30.37086</td></tr>\n",
       "\t<tr><th scope=row>22</th><td>no </td><td> 6</td><td>27.36395</td><td>29.29951</td></tr>\n",
       "\t<tr><th scope=row>23</th><td>no </td><td> 8</td><td>28.66429</td><td>38.08837</td></tr>\n",
       "\t<tr><th scope=row>25</th><td>yes</td><td>10</td><td>30.84168</td><td>52.41079</td></tr>\n",
       "\t<tr><th scope=row>26</th><td>no </td><td> 7</td><td>26.80696</td><td>34.18835</td></tr>\n",
       "\t<tr><th scope=row>27</th><td>yes</td><td> 6</td><td>26.88768</td><td>35.34583</td></tr>\n",
       "\t<tr><th scope=row>29</th><td>no </td><td>11</td><td>31.71159</td><td>48.67965</td></tr>\n",
       "\t<tr><th scope=row>30</th><td>yes</td><td> 8</td><td>27.77712</td><td>44.14728</td></tr>\n",
       "\t<tr><th scope=row>31</th><td>yes</td><td> 9</td><td>28.88452</td><td>48.69638</td></tr>\n",
       "\t<tr><th scope=row>33</th><td>no </td><td> 9</td><td>28.91362</td><td>41.79739</td></tr>\n",
       "\t<tr><th scope=row>34</th><td>no </td><td> 9</td><td>27.88048</td><td>42.42195</td></tr>\n",
       "\t<tr><th scope=row>35</th><td>yes</td><td> 7</td><td>25.46581</td><td>39.70293</td></tr>\n",
       "\t<tr><th scope=row>37</th><td>no </td><td> 7</td><td>25.18567</td><td>34.27840</td></tr>\n",
       "\t<tr><th scope=row>38</th><td>yes</td><td>11</td><td>30.78970</td><td>55.98101</td></tr>\n",
       "\t<tr><th scope=row>39</th><td>yes</td><td>11</td><td>30.75664</td><td>55.86037</td></tr>\n",
       "\t<tr><th scope=row>⋮</th><td>⋮</td><td>⋮</td><td>⋮</td><td>⋮</td></tr>\n",
       "\t<tr><th scope=row>161</th><td>yes</td><td> 6</td><td>26.03971</td><td>35.90457</td></tr>\n",
       "\t<tr><th scope=row>162</th><td>yes</td><td> 8</td><td>29.57389</td><td>44.15862</td></tr>\n",
       "\t<tr><th scope=row>163</th><td>no </td><td> 5</td><td>26.62596</td><td>25.74593</td></tr>\n",
       "\t<tr><th scope=row>165</th><td>no </td><td> 6</td><td>27.38401</td><td>30.86356</td></tr>\n",
       "\t<tr><th scope=row>166</th><td>no </td><td> 9</td><td>29.94920</td><td>42.19381</td></tr>\n",
       "\t<tr><th scope=row>167</th><td>no </td><td> 5</td><td>24.36614</td><td>26.18972</td></tr>\n",
       "\t<tr><th scope=row>169</th><td>no </td><td> 5</td><td>27.99265</td><td>26.20551</td></tr>\n",
       "\t<tr><th scope=row>170</th><td>no </td><td> 9</td><td>28.50649</td><td>41.95692</td></tr>\n",
       "\t<tr><th scope=row>171</th><td>no </td><td> 8</td><td>28.21750</td><td>37.06672</td></tr>\n",
       "\t<tr><th scope=row>173</th><td>yes</td><td> 6</td><td>25.73542</td><td>35.88433</td></tr>\n",
       "\t<tr><th scope=row>174</th><td>no </td><td>10</td><td>30.57636</td><td>45.73743</td></tr>\n",
       "\t<tr><th scope=row>175</th><td>no </td><td>10</td><td>31.23410</td><td>45.99881</td></tr>\n",
       "\t<tr><th scope=row>177</th><td>yes</td><td> 6</td><td>26.64629</td><td>35.68601</td></tr>\n",
       "\t<tr><th scope=row>178</th><td>no </td><td> 9</td><td>29.99332</td><td>41.97386</td></tr>\n",
       "\t<tr><th scope=row>179</th><td>yes</td><td> 7</td><td>28.11588</td><td>40.38127</td></tr>\n",
       "\t<tr><th scope=row>181</th><td>no </td><td> 7</td><td>25.50126</td><td>33.93863</td></tr>\n",
       "\t<tr><th scope=row>182</th><td>no </td><td>11</td><td>31.50517</td><td>50.78735</td></tr>\n",
       "\t<tr><th scope=row>183</th><td>yes</td><td>11</td><td>30.63692</td><td>55.72114</td></tr>\n",
       "\t<tr><th scope=row>185</th><td>yes</td><td> 6</td><td>25.97434</td><td>35.06706</td></tr>\n",
       "\t<tr><th scope=row>186</th><td>yes</td><td> 6</td><td>24.56863</td><td>36.13300</td></tr>\n",
       "\t<tr><th scope=row>187</th><td>yes</td><td>11</td><td>31.33976</td><td>56.32936</td></tr>\n",
       "\t<tr><th scope=row>189</th><td>no </td><td> 9</td><td>30.42827</td><td>43.34602</td></tr>\n",
       "\t<tr><th scope=row>190</th><td>yes</td><td> 9</td><td>28.74406</td><td>47.80739</td></tr>\n",
       "\t<tr><th scope=row>191</th><td>no </td><td> 6</td><td>25.99717</td><td>30.10671</td></tr>\n",
       "\t<tr><th scope=row>193</th><td>no </td><td>11</td><td>30.73490</td><td>50.05922</td></tr>\n",
       "\t<tr><th scope=row>194</th><td>no </td><td> 7</td><td>25.71319</td><td>34.18644</td></tr>\n",
       "\t<tr><th scope=row>195</th><td>yes</td><td>10</td><td>29.48948</td><td>50.39916</td></tr>\n",
       "\t<tr><th scope=row>197</th><td>yes</td><td> 5</td><td>23.98370</td><td>32.17017</td></tr>\n",
       "\t<tr><th scope=row>198</th><td>yes</td><td> 7</td><td>27.94532</td><td>40.38110</td></tr>\n",
       "\t<tr><th scope=row>199</th><td>no </td><td> 7</td><td>26.89888</td><td>33.63669</td></tr>\n",
       "</tbody>\n",
       "</table>\n"
      ],
      "text/latex": [
       "A data.frame: 150 × 4\n",
       "\\begin{tabular}{r|llll}\n",
       "  & nativeSpeaker & age & shoeSize & score\\\\\n",
       "  & <fct> & <int> & <dbl> & <dbl>\\\\\n",
       "\\hline\n",
       "\t1 & yes &  5 & 24.83189 & 32.29385\\\\\n",
       "\t2 & yes &  6 & 25.95238 & 36.63105\\\\\n",
       "\t3 & no  & 11 & 30.42170 & 49.60593\\\\\n",
       "\t5 & yes & 11 & 31.88207 & 55.46085\\\\\n",
       "\t6 & yes & 10 & 30.07843 & 52.83124\\\\\n",
       "\t7 & no  &  7 & 27.25963 & 34.40229\\\\\n",
       "\t9 & yes &  5 & 25.64411 & 32.49935\\\\\n",
       "\t10 & no  &  7 & 26.69835 & 33.93269\\\\\n",
       "\t11 & yes & 11 & 31.86645 & 55.46876\\\\\n",
       "\t13 & no  &  9 & 29.13156 & 41.77098\\\\\n",
       "\t14 & no  &  6 & 26.86513 & 30.03304\\\\\n",
       "\t15 & no  &  5 & 24.23420 & 25.62268\\\\\n",
       "\t17 & no  &  5 & 24.86357 & 25.62843\\\\\n",
       "\t18 & no  &  6 & 26.15357 & 30.76591\\\\\n",
       "\t19 & no  &  9 & 27.82057 & 41.93846\\\\\n",
       "\t21 & no  &  6 & 25.21054 & 30.37086\\\\\n",
       "\t22 & no  &  6 & 27.36395 & 29.29951\\\\\n",
       "\t23 & no  &  8 & 28.66429 & 38.08837\\\\\n",
       "\t25 & yes & 10 & 30.84168 & 52.41079\\\\\n",
       "\t26 & no  &  7 & 26.80696 & 34.18835\\\\\n",
       "\t27 & yes &  6 & 26.88768 & 35.34583\\\\\n",
       "\t29 & no  & 11 & 31.71159 & 48.67965\\\\\n",
       "\t30 & yes &  8 & 27.77712 & 44.14728\\\\\n",
       "\t31 & yes &  9 & 28.88452 & 48.69638\\\\\n",
       "\t33 & no  &  9 & 28.91362 & 41.79739\\\\\n",
       "\t34 & no  &  9 & 27.88048 & 42.42195\\\\\n",
       "\t35 & yes &  7 & 25.46581 & 39.70293\\\\\n",
       "\t37 & no  &  7 & 25.18567 & 34.27840\\\\\n",
       "\t38 & yes & 11 & 30.78970 & 55.98101\\\\\n",
       "\t39 & yes & 11 & 30.75664 & 55.86037\\\\\n",
       "\t⋮ & ⋮ & ⋮ & ⋮ & ⋮\\\\\n",
       "\t161 & yes &  6 & 26.03971 & 35.90457\\\\\n",
       "\t162 & yes &  8 & 29.57389 & 44.15862\\\\\n",
       "\t163 & no  &  5 & 26.62596 & 25.74593\\\\\n",
       "\t165 & no  &  6 & 27.38401 & 30.86356\\\\\n",
       "\t166 & no  &  9 & 29.94920 & 42.19381\\\\\n",
       "\t167 & no  &  5 & 24.36614 & 26.18972\\\\\n",
       "\t169 & no  &  5 & 27.99265 & 26.20551\\\\\n",
       "\t170 & no  &  9 & 28.50649 & 41.95692\\\\\n",
       "\t171 & no  &  8 & 28.21750 & 37.06672\\\\\n",
       "\t173 & yes &  6 & 25.73542 & 35.88433\\\\\n",
       "\t174 & no  & 10 & 30.57636 & 45.73743\\\\\n",
       "\t175 & no  & 10 & 31.23410 & 45.99881\\\\\n",
       "\t177 & yes &  6 & 26.64629 & 35.68601\\\\\n",
       "\t178 & no  &  9 & 29.99332 & 41.97386\\\\\n",
       "\t179 & yes &  7 & 28.11588 & 40.38127\\\\\n",
       "\t181 & no  &  7 & 25.50126 & 33.93863\\\\\n",
       "\t182 & no  & 11 & 31.50517 & 50.78735\\\\\n",
       "\t183 & yes & 11 & 30.63692 & 55.72114\\\\\n",
       "\t185 & yes &  6 & 25.97434 & 35.06706\\\\\n",
       "\t186 & yes &  6 & 24.56863 & 36.13300\\\\\n",
       "\t187 & yes & 11 & 31.33976 & 56.32936\\\\\n",
       "\t189 & no  &  9 & 30.42827 & 43.34602\\\\\n",
       "\t190 & yes &  9 & 28.74406 & 47.80739\\\\\n",
       "\t191 & no  &  6 & 25.99717 & 30.10671\\\\\n",
       "\t193 & no  & 11 & 30.73490 & 50.05922\\\\\n",
       "\t194 & no  &  7 & 25.71319 & 34.18644\\\\\n",
       "\t195 & yes & 10 & 29.48948 & 50.39916\\\\\n",
       "\t197 & yes &  5 & 23.98370 & 32.17017\\\\\n",
       "\t198 & yes &  7 & 27.94532 & 40.38110\\\\\n",
       "\t199 & no  &  7 & 26.89888 & 33.63669\\\\\n",
       "\\end{tabular}\n"
      ],
      "text/markdown": [
       "\n",
       "A data.frame: 150 × 4\n",
       "\n",
       "| <!--/--> | nativeSpeaker &lt;fct&gt; | age &lt;int&gt; | shoeSize &lt;dbl&gt; | score &lt;dbl&gt; |\n",
       "|---|---|---|---|---|\n",
       "| 1 | yes |  5 | 24.83189 | 32.29385 |\n",
       "| 2 | yes |  6 | 25.95238 | 36.63105 |\n",
       "| 3 | no  | 11 | 30.42170 | 49.60593 |\n",
       "| 5 | yes | 11 | 31.88207 | 55.46085 |\n",
       "| 6 | yes | 10 | 30.07843 | 52.83124 |\n",
       "| 7 | no  |  7 | 27.25963 | 34.40229 |\n",
       "| 9 | yes |  5 | 25.64411 | 32.49935 |\n",
       "| 10 | no  |  7 | 26.69835 | 33.93269 |\n",
       "| 11 | yes | 11 | 31.86645 | 55.46876 |\n",
       "| 13 | no  |  9 | 29.13156 | 41.77098 |\n",
       "| 14 | no  |  6 | 26.86513 | 30.03304 |\n",
       "| 15 | no  |  5 | 24.23420 | 25.62268 |\n",
       "| 17 | no  |  5 | 24.86357 | 25.62843 |\n",
       "| 18 | no  |  6 | 26.15357 | 30.76591 |\n",
       "| 19 | no  |  9 | 27.82057 | 41.93846 |\n",
       "| 21 | no  |  6 | 25.21054 | 30.37086 |\n",
       "| 22 | no  |  6 | 27.36395 | 29.29951 |\n",
       "| 23 | no  |  8 | 28.66429 | 38.08837 |\n",
       "| 25 | yes | 10 | 30.84168 | 52.41079 |\n",
       "| 26 | no  |  7 | 26.80696 | 34.18835 |\n",
       "| 27 | yes |  6 | 26.88768 | 35.34583 |\n",
       "| 29 | no  | 11 | 31.71159 | 48.67965 |\n",
       "| 30 | yes |  8 | 27.77712 | 44.14728 |\n",
       "| 31 | yes |  9 | 28.88452 | 48.69638 |\n",
       "| 33 | no  |  9 | 28.91362 | 41.79739 |\n",
       "| 34 | no  |  9 | 27.88048 | 42.42195 |\n",
       "| 35 | yes |  7 | 25.46581 | 39.70293 |\n",
       "| 37 | no  |  7 | 25.18567 | 34.27840 |\n",
       "| 38 | yes | 11 | 30.78970 | 55.98101 |\n",
       "| 39 | yes | 11 | 30.75664 | 55.86037 |\n",
       "| ⋮ | ⋮ | ⋮ | ⋮ | ⋮ |\n",
       "| 161 | yes |  6 | 26.03971 | 35.90457 |\n",
       "| 162 | yes |  8 | 29.57389 | 44.15862 |\n",
       "| 163 | no  |  5 | 26.62596 | 25.74593 |\n",
       "| 165 | no  |  6 | 27.38401 | 30.86356 |\n",
       "| 166 | no  |  9 | 29.94920 | 42.19381 |\n",
       "| 167 | no  |  5 | 24.36614 | 26.18972 |\n",
       "| 169 | no  |  5 | 27.99265 | 26.20551 |\n",
       "| 170 | no  |  9 | 28.50649 | 41.95692 |\n",
       "| 171 | no  |  8 | 28.21750 | 37.06672 |\n",
       "| 173 | yes |  6 | 25.73542 | 35.88433 |\n",
       "| 174 | no  | 10 | 30.57636 | 45.73743 |\n",
       "| 175 | no  | 10 | 31.23410 | 45.99881 |\n",
       "| 177 | yes |  6 | 26.64629 | 35.68601 |\n",
       "| 178 | no  |  9 | 29.99332 | 41.97386 |\n",
       "| 179 | yes |  7 | 28.11588 | 40.38127 |\n",
       "| 181 | no  |  7 | 25.50126 | 33.93863 |\n",
       "| 182 | no  | 11 | 31.50517 | 50.78735 |\n",
       "| 183 | yes | 11 | 30.63692 | 55.72114 |\n",
       "| 185 | yes |  6 | 25.97434 | 35.06706 |\n",
       "| 186 | yes |  6 | 24.56863 | 36.13300 |\n",
       "| 187 | yes | 11 | 31.33976 | 56.32936 |\n",
       "| 189 | no  |  9 | 30.42827 | 43.34602 |\n",
       "| 190 | yes |  9 | 28.74406 | 47.80739 |\n",
       "| 191 | no  |  6 | 25.99717 | 30.10671 |\n",
       "| 193 | no  | 11 | 30.73490 | 50.05922 |\n",
       "| 194 | no  |  7 | 25.71319 | 34.18644 |\n",
       "| 195 | yes | 10 | 29.48948 | 50.39916 |\n",
       "| 197 | yes |  5 | 23.98370 | 32.17017 |\n",
       "| 198 | yes |  7 | 27.94532 | 40.38110 |\n",
       "| 199 | no  |  7 | 26.89888 | 33.63669 |\n",
       "\n"
      ],
      "text/plain": [
       "    nativeSpeaker age shoeSize score   \n",
       "1   yes            5  24.83189 32.29385\n",
       "2   yes            6  25.95238 36.63105\n",
       "3   no            11  30.42170 49.60593\n",
       "5   yes           11  31.88207 55.46085\n",
       "6   yes           10  30.07843 52.83124\n",
       "7   no             7  27.25963 34.40229\n",
       "9   yes            5  25.64411 32.49935\n",
       "10  no             7  26.69835 33.93269\n",
       "11  yes           11  31.86645 55.46876\n",
       "13  no             9  29.13156 41.77098\n",
       "14  no             6  26.86513 30.03304\n",
       "15  no             5  24.23420 25.62268\n",
       "17  no             5  24.86357 25.62843\n",
       "18  no             6  26.15357 30.76591\n",
       "19  no             9  27.82057 41.93846\n",
       "21  no             6  25.21054 30.37086\n",
       "22  no             6  27.36395 29.29951\n",
       "23  no             8  28.66429 38.08837\n",
       "25  yes           10  30.84168 52.41079\n",
       "26  no             7  26.80696 34.18835\n",
       "27  yes            6  26.88768 35.34583\n",
       "29  no            11  31.71159 48.67965\n",
       "30  yes            8  27.77712 44.14728\n",
       "31  yes            9  28.88452 48.69638\n",
       "33  no             9  28.91362 41.79739\n",
       "34  no             9  27.88048 42.42195\n",
       "35  yes            7  25.46581 39.70293\n",
       "37  no             7  25.18567 34.27840\n",
       "38  yes           11  30.78970 55.98101\n",
       "39  yes           11  30.75664 55.86037\n",
       "⋮   ⋮             ⋮   ⋮        ⋮       \n",
       "161 yes            6  26.03971 35.90457\n",
       "162 yes            8  29.57389 44.15862\n",
       "163 no             5  26.62596 25.74593\n",
       "165 no             6  27.38401 30.86356\n",
       "166 no             9  29.94920 42.19381\n",
       "167 no             5  24.36614 26.18972\n",
       "169 no             5  27.99265 26.20551\n",
       "170 no             9  28.50649 41.95692\n",
       "171 no             8  28.21750 37.06672\n",
       "173 yes            6  25.73542 35.88433\n",
       "174 no            10  30.57636 45.73743\n",
       "175 no            10  31.23410 45.99881\n",
       "177 yes            6  26.64629 35.68601\n",
       "178 no             9  29.99332 41.97386\n",
       "179 yes            7  28.11588 40.38127\n",
       "181 no             7  25.50126 33.93863\n",
       "182 no            11  31.50517 50.78735\n",
       "183 yes           11  30.63692 55.72114\n",
       "185 yes            6  25.97434 35.06706\n",
       "186 yes            6  24.56863 36.13300\n",
       "187 yes           11  31.33976 56.32936\n",
       "189 no             9  30.42827 43.34602\n",
       "190 yes            9  28.74406 47.80739\n",
       "191 no             6  25.99717 30.10671\n",
       "193 no            11  30.73490 50.05922\n",
       "194 no             7  25.71319 34.18644\n",
       "195 yes           10  29.48948 50.39916\n",
       "197 yes            5  23.98370 32.17017\n",
       "198 yes            7  27.94532 40.38110\n",
       "199 no             7  26.89888 33.63669"
      ]
     },
     "metadata": {},
     "output_type": "display_data"
    }
   ],
   "source": [
    "train_data"
   ]
  },
  {
   "cell_type": "code",
   "execution_count": 116,
   "metadata": {
    "vscode": {
     "languageId": "r"
    }
   },
   "outputs": [],
   "source": [
    "test_data <- subset(readingSkills, sample_data == FALSE)"
   ]
  },
  {
   "cell_type": "code",
   "execution_count": 117,
   "metadata": {
    "vscode": {
     "languageId": "r"
    }
   },
   "outputs": [
    {
     "data": {
      "text/html": [
       "<table class=\"dataframe\">\n",
       "<caption>A data.frame: 50 × 4</caption>\n",
       "<thead>\n",
       "\t<tr><th></th><th scope=col>nativeSpeaker</th><th scope=col>age</th><th scope=col>shoeSize</th><th scope=col>score</th></tr>\n",
       "\t<tr><th></th><th scope=col>&lt;fct&gt;</th><th scope=col>&lt;int&gt;</th><th scope=col>&lt;dbl&gt;</th><th scope=col>&lt;dbl&gt;</th></tr>\n",
       "</thead>\n",
       "<tbody>\n",
       "\t<tr><th scope=row>4</th><td>yes</td><td> 7</td><td>28.66450</td><td>40.28456</td></tr>\n",
       "\t<tr><th scope=row>8</th><td>yes</td><td>11</td><td>30.72398</td><td>55.52747</td></tr>\n",
       "\t<tr><th scope=row>12</th><td>yes</td><td>10</td><td>29.15575</td><td>51.34140</td></tr>\n",
       "\t<tr><th scope=row>16</th><td>yes</td><td> 6</td><td>25.67538</td><td>35.30042</td></tr>\n",
       "\t<tr><th scope=row>20</th><td>yes</td><td> 5</td><td>24.86766</td><td>31.69986</td></tr>\n",
       "\t<tr><th scope=row>24</th><td>yes</td><td> 9</td><td>29.98455</td><td>48.62986</td></tr>\n",
       "\t<tr><th scope=row>28</th><td>yes</td><td> 8</td><td>28.42650</td><td>43.72037</td></tr>\n",
       "\t<tr><th scope=row>32</th><td>yes</td><td> 7</td><td>26.66743</td><td>39.65520</td></tr>\n",
       "\t<tr><th scope=row>36</th><td>yes</td><td> 8</td><td>27.71701</td><td>44.06255</td></tr>\n",
       "\t<tr><th scope=row>40</th><td>yes</td><td>11</td><td>30.51397</td><td>56.60820</td></tr>\n",
       "\t<tr><th scope=row>44</th><td>no </td><td>10</td><td>29.64754</td><td>45.76171</td></tr>\n",
       "\t<tr><th scope=row>48</th><td>no </td><td> 6</td><td>26.10433</td><td>29.35036</td></tr>\n",
       "\t<tr><th scope=row>52</th><td>yes</td><td> 6</td><td>26.12942</td><td>36.26278</td></tr>\n",
       "\t<tr><th scope=row>56</th><td>yes</td><td>10</td><td>29.34366</td><td>51.94718</td></tr>\n",
       "\t<tr><th scope=row>60</th><td>no </td><td> 8</td><td>29.32793</td><td>37.52172</td></tr>\n",
       "\t<tr><th scope=row>64</th><td>no </td><td>11</td><td>30.98741</td><td>50.28310</td></tr>\n",
       "\t<tr><th scope=row>68</th><td>no </td><td>11</td><td>30.26624</td><td>50.22454</td></tr>\n",
       "\t<tr><th scope=row>72</th><td>no </td><td> 7</td><td>26.75747</td><td>34.72458</td></tr>\n",
       "\t<tr><th scope=row>76</th><td>yes</td><td> 7</td><td>26.78045</td><td>39.36539</td></tr>\n",
       "\t<tr><th scope=row>80</th><td>no </td><td>10</td><td>29.65228</td><td>47.08507</td></tr>\n",
       "\t<tr><th scope=row>84</th><td>no </td><td> 8</td><td>27.15459</td><td>38.30587</td></tr>\n",
       "\t<tr><th scope=row>88</th><td>yes</td><td>11</td><td>29.25025</td><td>55.98533</td></tr>\n",
       "\t<tr><th scope=row>92</th><td>yes</td><td>10</td><td>31.09258</td><td>51.95836</td></tr>\n",
       "\t<tr><th scope=row>96</th><td>no </td><td> 6</td><td>27.22615</td><td>29.54096</td></tr>\n",
       "\t<tr><th scope=row>100</th><td>yes</td><td>11</td><td>31.97305</td><td>56.71151</td></tr>\n",
       "\t<tr><th scope=row>104</th><td>no </td><td> 8</td><td>27.75043</td><td>37.98349</td></tr>\n",
       "\t<tr><th scope=row>108</th><td>yes</td><td> 6</td><td>25.85062</td><td>35.64016</td></tr>\n",
       "\t<tr><th scope=row>112</th><td>yes</td><td> 8</td><td>28.70689</td><td>44.16713</td></tr>\n",
       "\t<tr><th scope=row>116</th><td>yes</td><td> 9</td><td>29.29459</td><td>47.63110</td></tr>\n",
       "\t<tr><th scope=row>120</th><td>no </td><td> 6</td><td>27.02041</td><td>29.48739</td></tr>\n",
       "\t<tr><th scope=row>124</th><td>yes</td><td> 8</td><td>27.71527</td><td>43.83161</td></tr>\n",
       "\t<tr><th scope=row>128</th><td>yes</td><td>11</td><td>31.99926</td><td>56.30993</td></tr>\n",
       "\t<tr><th scope=row>132</th><td>no </td><td>10</td><td>30.28040</td><td>46.25185</td></tr>\n",
       "\t<tr><th scope=row>136</th><td>no </td><td> 6</td><td>25.65385</td><td>30.64317</td></tr>\n",
       "\t<tr><th scope=row>140</th><td>no </td><td> 8</td><td>27.97674</td><td>37.81026</td></tr>\n",
       "\t<tr><th scope=row>144</th><td>yes</td><td> 7</td><td>26.02503</td><td>39.51530</td></tr>\n",
       "\t<tr><th scope=row>148</th><td>no </td><td> 5</td><td>25.24042</td><td>25.45566</td></tr>\n",
       "\t<tr><th scope=row>152</th><td>yes</td><td> 8</td><td>28.64973</td><td>44.34195</td></tr>\n",
       "\t<tr><th scope=row>156</th><td>yes</td><td>11</td><td>29.95928</td><td>56.42077</td></tr>\n",
       "\t<tr><th scope=row>160</th><td>yes</td><td> 5</td><td>23.17343</td><td>31.37968</td></tr>\n",
       "\t<tr><th scope=row>164</th><td>yes</td><td> 9</td><td>30.10595</td><td>48.42306</td></tr>\n",
       "\t<tr><th scope=row>168</th><td>yes</td><td> 9</td><td>28.33482</td><td>48.71203</td></tr>\n",
       "\t<tr><th scope=row>172</th><td>yes</td><td> 8</td><td>27.08854</td><td>43.40705</td></tr>\n",
       "\t<tr><th scope=row>176</th><td>yes</td><td> 6</td><td>25.66783</td><td>35.82592</td></tr>\n",
       "\t<tr><th scope=row>180</th><td>yes</td><td> 7</td><td>26.92279</td><td>40.20002</td></tr>\n",
       "\t<tr><th scope=row>184</th><td>yes</td><td> 5</td><td>24.97172</td><td>32.01453</td></tr>\n",
       "\t<tr><th scope=row>188</th><td>yes</td><td> 8</td><td>27.52207</td><td>44.53813</td></tr>\n",
       "\t<tr><th scope=row>192</th><td>yes</td><td>10</td><td>29.25595</td><td>51.42192</td></tr>\n",
       "\t<tr><th scope=row>196</th><td>no </td><td> 8</td><td>26.44756</td><td>37.54887</td></tr>\n",
       "\t<tr><th scope=row>200</th><td>no </td><td> 8</td><td>26.70672</td><td>38.68543</td></tr>\n",
       "</tbody>\n",
       "</table>\n"
      ],
      "text/latex": [
       "A data.frame: 50 × 4\n",
       "\\begin{tabular}{r|llll}\n",
       "  & nativeSpeaker & age & shoeSize & score\\\\\n",
       "  & <fct> & <int> & <dbl> & <dbl>\\\\\n",
       "\\hline\n",
       "\t4 & yes &  7 & 28.66450 & 40.28456\\\\\n",
       "\t8 & yes & 11 & 30.72398 & 55.52747\\\\\n",
       "\t12 & yes & 10 & 29.15575 & 51.34140\\\\\n",
       "\t16 & yes &  6 & 25.67538 & 35.30042\\\\\n",
       "\t20 & yes &  5 & 24.86766 & 31.69986\\\\\n",
       "\t24 & yes &  9 & 29.98455 & 48.62986\\\\\n",
       "\t28 & yes &  8 & 28.42650 & 43.72037\\\\\n",
       "\t32 & yes &  7 & 26.66743 & 39.65520\\\\\n",
       "\t36 & yes &  8 & 27.71701 & 44.06255\\\\\n",
       "\t40 & yes & 11 & 30.51397 & 56.60820\\\\\n",
       "\t44 & no  & 10 & 29.64754 & 45.76171\\\\\n",
       "\t48 & no  &  6 & 26.10433 & 29.35036\\\\\n",
       "\t52 & yes &  6 & 26.12942 & 36.26278\\\\\n",
       "\t56 & yes & 10 & 29.34366 & 51.94718\\\\\n",
       "\t60 & no  &  8 & 29.32793 & 37.52172\\\\\n",
       "\t64 & no  & 11 & 30.98741 & 50.28310\\\\\n",
       "\t68 & no  & 11 & 30.26624 & 50.22454\\\\\n",
       "\t72 & no  &  7 & 26.75747 & 34.72458\\\\\n",
       "\t76 & yes &  7 & 26.78045 & 39.36539\\\\\n",
       "\t80 & no  & 10 & 29.65228 & 47.08507\\\\\n",
       "\t84 & no  &  8 & 27.15459 & 38.30587\\\\\n",
       "\t88 & yes & 11 & 29.25025 & 55.98533\\\\\n",
       "\t92 & yes & 10 & 31.09258 & 51.95836\\\\\n",
       "\t96 & no  &  6 & 27.22615 & 29.54096\\\\\n",
       "\t100 & yes & 11 & 31.97305 & 56.71151\\\\\n",
       "\t104 & no  &  8 & 27.75043 & 37.98349\\\\\n",
       "\t108 & yes &  6 & 25.85062 & 35.64016\\\\\n",
       "\t112 & yes &  8 & 28.70689 & 44.16713\\\\\n",
       "\t116 & yes &  9 & 29.29459 & 47.63110\\\\\n",
       "\t120 & no  &  6 & 27.02041 & 29.48739\\\\\n",
       "\t124 & yes &  8 & 27.71527 & 43.83161\\\\\n",
       "\t128 & yes & 11 & 31.99926 & 56.30993\\\\\n",
       "\t132 & no  & 10 & 30.28040 & 46.25185\\\\\n",
       "\t136 & no  &  6 & 25.65385 & 30.64317\\\\\n",
       "\t140 & no  &  8 & 27.97674 & 37.81026\\\\\n",
       "\t144 & yes &  7 & 26.02503 & 39.51530\\\\\n",
       "\t148 & no  &  5 & 25.24042 & 25.45566\\\\\n",
       "\t152 & yes &  8 & 28.64973 & 44.34195\\\\\n",
       "\t156 & yes & 11 & 29.95928 & 56.42077\\\\\n",
       "\t160 & yes &  5 & 23.17343 & 31.37968\\\\\n",
       "\t164 & yes &  9 & 30.10595 & 48.42306\\\\\n",
       "\t168 & yes &  9 & 28.33482 & 48.71203\\\\\n",
       "\t172 & yes &  8 & 27.08854 & 43.40705\\\\\n",
       "\t176 & yes &  6 & 25.66783 & 35.82592\\\\\n",
       "\t180 & yes &  7 & 26.92279 & 40.20002\\\\\n",
       "\t184 & yes &  5 & 24.97172 & 32.01453\\\\\n",
       "\t188 & yes &  8 & 27.52207 & 44.53813\\\\\n",
       "\t192 & yes & 10 & 29.25595 & 51.42192\\\\\n",
       "\t196 & no  &  8 & 26.44756 & 37.54887\\\\\n",
       "\t200 & no  &  8 & 26.70672 & 38.68543\\\\\n",
       "\\end{tabular}\n"
      ],
      "text/markdown": [
       "\n",
       "A data.frame: 50 × 4\n",
       "\n",
       "| <!--/--> | nativeSpeaker &lt;fct&gt; | age &lt;int&gt; | shoeSize &lt;dbl&gt; | score &lt;dbl&gt; |\n",
       "|---|---|---|---|---|\n",
       "| 4 | yes |  7 | 28.66450 | 40.28456 |\n",
       "| 8 | yes | 11 | 30.72398 | 55.52747 |\n",
       "| 12 | yes | 10 | 29.15575 | 51.34140 |\n",
       "| 16 | yes |  6 | 25.67538 | 35.30042 |\n",
       "| 20 | yes |  5 | 24.86766 | 31.69986 |\n",
       "| 24 | yes |  9 | 29.98455 | 48.62986 |\n",
       "| 28 | yes |  8 | 28.42650 | 43.72037 |\n",
       "| 32 | yes |  7 | 26.66743 | 39.65520 |\n",
       "| 36 | yes |  8 | 27.71701 | 44.06255 |\n",
       "| 40 | yes | 11 | 30.51397 | 56.60820 |\n",
       "| 44 | no  | 10 | 29.64754 | 45.76171 |\n",
       "| 48 | no  |  6 | 26.10433 | 29.35036 |\n",
       "| 52 | yes |  6 | 26.12942 | 36.26278 |\n",
       "| 56 | yes | 10 | 29.34366 | 51.94718 |\n",
       "| 60 | no  |  8 | 29.32793 | 37.52172 |\n",
       "| 64 | no  | 11 | 30.98741 | 50.28310 |\n",
       "| 68 | no  | 11 | 30.26624 | 50.22454 |\n",
       "| 72 | no  |  7 | 26.75747 | 34.72458 |\n",
       "| 76 | yes |  7 | 26.78045 | 39.36539 |\n",
       "| 80 | no  | 10 | 29.65228 | 47.08507 |\n",
       "| 84 | no  |  8 | 27.15459 | 38.30587 |\n",
       "| 88 | yes | 11 | 29.25025 | 55.98533 |\n",
       "| 92 | yes | 10 | 31.09258 | 51.95836 |\n",
       "| 96 | no  |  6 | 27.22615 | 29.54096 |\n",
       "| 100 | yes | 11 | 31.97305 | 56.71151 |\n",
       "| 104 | no  |  8 | 27.75043 | 37.98349 |\n",
       "| 108 | yes |  6 | 25.85062 | 35.64016 |\n",
       "| 112 | yes |  8 | 28.70689 | 44.16713 |\n",
       "| 116 | yes |  9 | 29.29459 | 47.63110 |\n",
       "| 120 | no  |  6 | 27.02041 | 29.48739 |\n",
       "| 124 | yes |  8 | 27.71527 | 43.83161 |\n",
       "| 128 | yes | 11 | 31.99926 | 56.30993 |\n",
       "| 132 | no  | 10 | 30.28040 | 46.25185 |\n",
       "| 136 | no  |  6 | 25.65385 | 30.64317 |\n",
       "| 140 | no  |  8 | 27.97674 | 37.81026 |\n",
       "| 144 | yes |  7 | 26.02503 | 39.51530 |\n",
       "| 148 | no  |  5 | 25.24042 | 25.45566 |\n",
       "| 152 | yes |  8 | 28.64973 | 44.34195 |\n",
       "| 156 | yes | 11 | 29.95928 | 56.42077 |\n",
       "| 160 | yes |  5 | 23.17343 | 31.37968 |\n",
       "| 164 | yes |  9 | 30.10595 | 48.42306 |\n",
       "| 168 | yes |  9 | 28.33482 | 48.71203 |\n",
       "| 172 | yes |  8 | 27.08854 | 43.40705 |\n",
       "| 176 | yes |  6 | 25.66783 | 35.82592 |\n",
       "| 180 | yes |  7 | 26.92279 | 40.20002 |\n",
       "| 184 | yes |  5 | 24.97172 | 32.01453 |\n",
       "| 188 | yes |  8 | 27.52207 | 44.53813 |\n",
       "| 192 | yes | 10 | 29.25595 | 51.42192 |\n",
       "| 196 | no  |  8 | 26.44756 | 37.54887 |\n",
       "| 200 | no  |  8 | 26.70672 | 38.68543 |\n",
       "\n"
      ],
      "text/plain": [
       "    nativeSpeaker age shoeSize score   \n",
       "4   yes            7  28.66450 40.28456\n",
       "8   yes           11  30.72398 55.52747\n",
       "12  yes           10  29.15575 51.34140\n",
       "16  yes            6  25.67538 35.30042\n",
       "20  yes            5  24.86766 31.69986\n",
       "24  yes            9  29.98455 48.62986\n",
       "28  yes            8  28.42650 43.72037\n",
       "32  yes            7  26.66743 39.65520\n",
       "36  yes            8  27.71701 44.06255\n",
       "40  yes           11  30.51397 56.60820\n",
       "44  no            10  29.64754 45.76171\n",
       "48  no             6  26.10433 29.35036\n",
       "52  yes            6  26.12942 36.26278\n",
       "56  yes           10  29.34366 51.94718\n",
       "60  no             8  29.32793 37.52172\n",
       "64  no            11  30.98741 50.28310\n",
       "68  no            11  30.26624 50.22454\n",
       "72  no             7  26.75747 34.72458\n",
       "76  yes            7  26.78045 39.36539\n",
       "80  no            10  29.65228 47.08507\n",
       "84  no             8  27.15459 38.30587\n",
       "88  yes           11  29.25025 55.98533\n",
       "92  yes           10  31.09258 51.95836\n",
       "96  no             6  27.22615 29.54096\n",
       "100 yes           11  31.97305 56.71151\n",
       "104 no             8  27.75043 37.98349\n",
       "108 yes            6  25.85062 35.64016\n",
       "112 yes            8  28.70689 44.16713\n",
       "116 yes            9  29.29459 47.63110\n",
       "120 no             6  27.02041 29.48739\n",
       "124 yes            8  27.71527 43.83161\n",
       "128 yes           11  31.99926 56.30993\n",
       "132 no            10  30.28040 46.25185\n",
       "136 no             6  25.65385 30.64317\n",
       "140 no             8  27.97674 37.81026\n",
       "144 yes            7  26.02503 39.51530\n",
       "148 no             5  25.24042 25.45566\n",
       "152 yes            8  28.64973 44.34195\n",
       "156 yes           11  29.95928 56.42077\n",
       "160 yes            5  23.17343 31.37968\n",
       "164 yes            9  30.10595 48.42306\n",
       "168 yes            9  28.33482 48.71203\n",
       "172 yes            8  27.08854 43.40705\n",
       "176 yes            6  25.66783 35.82592\n",
       "180 yes            7  26.92279 40.20002\n",
       "184 yes            5  24.97172 32.01453\n",
       "188 yes            8  27.52207 44.53813\n",
       "192 yes           10  29.25595 51.42192\n",
       "196 no             8  26.44756 37.54887\n",
       "200 no             8  26.70672 38.68543"
      ]
     },
     "metadata": {},
     "output_type": "display_data"
    }
   ],
   "source": [
    "test_data"
   ]
  },
  {
   "cell_type": "code",
   "execution_count": 119,
   "metadata": {
    "vscode": {
     "languageId": "r"
    }
   },
   "outputs": [],
   "source": [
    "model<- ctree(nativeSpeaker ~ ., train_data)"
   ]
  },
  {
   "cell_type": "code",
   "execution_count": 120,
   "metadata": {
    "vscode": {
     "languageId": "r"
    }
   },
   "outputs": [
    {
     "data": {
      "image/png": "[encoded data removed]",
      "text/plain": [
       "plot without title"
      ]
     },
     "metadata": {
      "image/png": {
       "height": 420,
       "width": 420
      }
     },
     "output_type": "display_data"
    }
   ],
   "source": [
    "plot(model)"
   ]
  },
  {
   "cell_type": "code",
   "execution_count": null,
   "metadata": {
    "vscode": {
     "languageId": "r"
    }
   },
   "outputs": [],
   "source": []
  }
 ],
 "metadata": {
  "kernelspec": {
   "display_name": "R",
   "language": "R",
   "name": "ir"
  },
  "language_info": {
   "codemirror_mode": "r",
   "file_extension": ".r",
   "mimetype": "text/x-r-source",
   "name": "R",
   "pygments_lexer": "r",
   "version": "4.3.2"
  }
 },
 "nbformat": 4,
 "nbformat_minor": 2
}
